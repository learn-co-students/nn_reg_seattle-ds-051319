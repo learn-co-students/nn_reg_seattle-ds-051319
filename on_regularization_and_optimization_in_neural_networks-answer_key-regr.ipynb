{
 "cells": [
  {
   "cell_type": "markdown",
   "metadata": {},
   "source": [
    "# Regularization and Optimization in Neural Networks\n",
    "\n",
    "## Regularization of NNs\n",
    "\n",
    "Does regularization make sense in the context of neural networks? <br/>\n",
    "\n",
    "Yes! We still have all of the salient ingredients: a loss function, overfitting vs. underfitting, and coefficients (weights) that could get too large.\n",
    "\n",
    "But there are now a few different flavors besides L1 and L2 regularization. (Note that L1 regularization is not common in the context of  neural networks.)"
   ]
  },
  {
   "cell_type": "code",
   "execution_count": 1,
   "metadata": {},
   "outputs": [
    {
     "name": "stderr",
     "output_type": "stream",
     "text": [
      "Using TensorFlow backend.\n"
     ]
    }
   ],
   "source": [
    "import numpy as np\n",
    "import pandas as pd\n",
    "from sklearn.model_selection import train_test_split\n",
    "from sklearn.preprocessing import StandardScaler\n",
    "from keras.models import Sequential\n",
    "from keras.layers import Dense\n",
    "from keras.utils import to_categorical\n",
    "from matplotlib import pyplot as plt\n",
    "%matplotlib inline"
   ]
  },
  {
   "cell_type": "code",
   "execution_count": 2,
   "metadata": {},
   "outputs": [
    {
     "data": {
      "text/html": [
       "<div>\n",
       "<style scoped>\n",
       "    .dataframe tbody tr th:only-of-type {\n",
       "        vertical-align: middle;\n",
       "    }\n",
       "\n",
       "    .dataframe tbody tr th {\n",
       "        vertical-align: top;\n",
       "    }\n",
       "\n",
       "    .dataframe thead th {\n",
       "        text-align: right;\n",
       "    }\n",
       "</style>\n",
       "<table border=\"1\" class=\"dataframe\">\n",
       "  <thead>\n",
       "    <tr style=\"text-align: right;\">\n",
       "      <th></th>\n",
       "      <th>fixed acidity</th>\n",
       "      <th>volatile acidity</th>\n",
       "      <th>citric acid</th>\n",
       "      <th>residual sugar</th>\n",
       "      <th>chlorides</th>\n",
       "      <th>free sulfur dioxide</th>\n",
       "      <th>total sulfur dioxide</th>\n",
       "      <th>density</th>\n",
       "      <th>pH</th>\n",
       "      <th>sulphates</th>\n",
       "      <th>alcohol</th>\n",
       "      <th>quality</th>\n",
       "      <th>red_wine</th>\n",
       "    </tr>\n",
       "  </thead>\n",
       "  <tbody>\n",
       "    <tr>\n",
       "      <th>0</th>\n",
       "      <td>7.4</td>\n",
       "      <td>0.70</td>\n",
       "      <td>0.00</td>\n",
       "      <td>1.9</td>\n",
       "      <td>0.076</td>\n",
       "      <td>11.0</td>\n",
       "      <td>34.0</td>\n",
       "      <td>0.9978</td>\n",
       "      <td>3.51</td>\n",
       "      <td>0.56</td>\n",
       "      <td>9.4</td>\n",
       "      <td>5</td>\n",
       "      <td>1</td>\n",
       "    </tr>\n",
       "    <tr>\n",
       "      <th>1</th>\n",
       "      <td>7.8</td>\n",
       "      <td>0.88</td>\n",
       "      <td>0.00</td>\n",
       "      <td>2.6</td>\n",
       "      <td>0.098</td>\n",
       "      <td>25.0</td>\n",
       "      <td>67.0</td>\n",
       "      <td>0.9968</td>\n",
       "      <td>3.20</td>\n",
       "      <td>0.68</td>\n",
       "      <td>9.8</td>\n",
       "      <td>5</td>\n",
       "      <td>1</td>\n",
       "    </tr>\n",
       "    <tr>\n",
       "      <th>2</th>\n",
       "      <td>7.8</td>\n",
       "      <td>0.76</td>\n",
       "      <td>0.04</td>\n",
       "      <td>2.3</td>\n",
       "      <td>0.092</td>\n",
       "      <td>15.0</td>\n",
       "      <td>54.0</td>\n",
       "      <td>0.9970</td>\n",
       "      <td>3.26</td>\n",
       "      <td>0.65</td>\n",
       "      <td>9.8</td>\n",
       "      <td>5</td>\n",
       "      <td>1</td>\n",
       "    </tr>\n",
       "    <tr>\n",
       "      <th>3</th>\n",
       "      <td>11.2</td>\n",
       "      <td>0.28</td>\n",
       "      <td>0.56</td>\n",
       "      <td>1.9</td>\n",
       "      <td>0.075</td>\n",
       "      <td>17.0</td>\n",
       "      <td>60.0</td>\n",
       "      <td>0.9980</td>\n",
       "      <td>3.16</td>\n",
       "      <td>0.58</td>\n",
       "      <td>9.8</td>\n",
       "      <td>6</td>\n",
       "      <td>1</td>\n",
       "    </tr>\n",
       "    <tr>\n",
       "      <th>4</th>\n",
       "      <td>7.4</td>\n",
       "      <td>0.70</td>\n",
       "      <td>0.00</td>\n",
       "      <td>1.9</td>\n",
       "      <td>0.076</td>\n",
       "      <td>11.0</td>\n",
       "      <td>34.0</td>\n",
       "      <td>0.9978</td>\n",
       "      <td>3.51</td>\n",
       "      <td>0.56</td>\n",
       "      <td>9.4</td>\n",
       "      <td>5</td>\n",
       "      <td>1</td>\n",
       "    </tr>\n",
       "  </tbody>\n",
       "</table>\n",
       "</div>"
      ],
      "text/plain": [
       "   fixed acidity  volatile acidity  citric acid  residual sugar  chlorides  \\\n",
       "0            7.4              0.70         0.00             1.9      0.076   \n",
       "1            7.8              0.88         0.00             2.6      0.098   \n",
       "2            7.8              0.76         0.04             2.3      0.092   \n",
       "3           11.2              0.28         0.56             1.9      0.075   \n",
       "4            7.4              0.70         0.00             1.9      0.076   \n",
       "\n",
       "   free sulfur dioxide  total sulfur dioxide  density    pH  sulphates  \\\n",
       "0                 11.0                  34.0   0.9978  3.51       0.56   \n",
       "1                 25.0                  67.0   0.9968  3.20       0.68   \n",
       "2                 15.0                  54.0   0.9970  3.26       0.65   \n",
       "3                 17.0                  60.0   0.9980  3.16       0.58   \n",
       "4                 11.0                  34.0   0.9978  3.51       0.56   \n",
       "\n",
       "   alcohol  quality  red_wine  \n",
       "0      9.4        5         1  \n",
       "1      9.8        5         1  \n",
       "2      9.8        5         1  \n",
       "3      9.8        6         1  \n",
       "4      9.4        5         1  "
      ]
     },
     "execution_count": 2,
     "metadata": {},
     "output_type": "execute_result"
    }
   ],
   "source": [
    "wine = pd.read_csv('wine.csv')\n",
    "wine.head()"
   ]
  },
  {
   "cell_type": "code",
   "execution_count": 3,
   "metadata": {},
   "outputs": [],
   "source": [
    "X = wine.drop('quality', axis=1)\n",
    "y = wine.quality"
   ]
  },
  {
   "cell_type": "code",
   "execution_count": 4,
   "metadata": {},
   "outputs": [
    {
     "data": {
      "text/plain": [
       "6    2836\n",
       "5    2138\n",
       "7    1079\n",
       "4     216\n",
       "8     193\n",
       "3      30\n",
       "9       5\n",
       "Name: quality, dtype: int64"
      ]
     },
     "execution_count": 4,
     "metadata": {},
     "output_type": "execute_result"
    }
   ],
   "source": [
    "wine['quality'].value_counts()"
   ]
  },
  {
   "cell_type": "code",
   "execution_count": 5,
   "metadata": {
    "scrolled": true
   },
   "outputs": [],
   "source": [
    "X_train, X_test, y_train, y_test = train_test_split(X, y,\n",
    "                                                    random_state=11, stratify=y)\n",
    "ss = StandardScaler()\n",
    "X_train_s = ss.fit_transform(X_train).astype(np.int32)\n",
    "X_test_s = ss.transform(X_test).astype(np.int32)"
   ]
  },
  {
   "cell_type": "code",
   "execution_count": 6,
   "metadata": {},
   "outputs": [],
   "source": [
    "# y_train_c = to_categorical(y_train).astype(np.int32)\n",
    "# y_test_c = to_categorical(y_test).astype(np.int32)"
   ]
  },
  {
   "cell_type": "code",
   "execution_count": 7,
   "metadata": {},
   "outputs": [],
   "source": [
    "model = Sequential()\n",
    "\n",
    "n_input = X_train_s.shape[1]\n",
    "\n",
    "model.add(Dense(n_input, activation='relu'))\n",
    "model.add(Dense(1))"
   ]
  },
  {
   "cell_type": "code",
   "execution_count": 14,
   "metadata": {},
   "outputs": [],
   "source": [
    "model.compile(optimizer='adam', loss='mean_squared_error', metrics=[])"
   ]
  },
  {
   "cell_type": "markdown",
   "metadata": {},
   "source": [
    "By the way, here is a helpful blog post that goes carefully through a list of similarly-named different activation functions and loss functions: https://gombru.github.io/2018/05/23/cross_entropy_loss/"
   ]
  },
  {
   "cell_type": "code",
   "execution_count": 15,
   "metadata": {},
   "outputs": [
    {
     "name": "stdout",
     "output_type": "stream",
     "text": [
      "Train on 4872 samples, validate on 1625 samples\n",
      "Epoch 1/30\n",
      "4872/4872 [==============================] - 0s 55us/step - loss: 0.5666 - val_loss: 0.6349\n",
      "Epoch 2/30\n",
      "4872/4872 [==============================] - 0s 19us/step - loss: 0.5654 - val_loss: 0.6260\n",
      "Epoch 3/30\n",
      "4872/4872 [==============================] - 0s 20us/step - loss: 0.5634 - val_loss: 0.6237\n",
      "Epoch 4/30\n",
      "4872/4872 [==============================] - 0s 20us/step - loss: 0.5620 - val_loss: 0.6311\n",
      "Epoch 5/30\n",
      "4872/4872 [==============================] - 0s 21us/step - loss: 0.5605 - val_loss: 0.6199\n",
      "Epoch 6/30\n",
      "4872/4872 [==============================] - 0s 21us/step - loss: 0.5590 - val_loss: 0.6247\n",
      "Epoch 7/30\n",
      "4872/4872 [==============================] - 0s 22us/step - loss: 0.5602 - val_loss: 0.6249\n",
      "Epoch 8/30\n",
      "4872/4872 [==============================] - 0s 22us/step - loss: 0.5570 - val_loss: 0.6226\n",
      "Epoch 9/30\n",
      "4872/4872 [==============================] - 0s 22us/step - loss: 0.5565 - val_loss: 0.6203\n",
      "Epoch 10/30\n",
      "4872/4872 [==============================] - 0s 23us/step - loss: 0.5548 - val_loss: 0.6201\n",
      "Epoch 11/30\n",
      "4872/4872 [==============================] - 0s 22us/step - loss: 0.5552 - val_loss: 0.6186\n",
      "Epoch 12/30\n",
      "4872/4872 [==============================] - 0s 22us/step - loss: 0.5539 - val_loss: 0.6195\n",
      "Epoch 13/30\n",
      "4872/4872 [==============================] - 0s 22us/step - loss: 0.5520 - val_loss: 0.6165\n",
      "Epoch 14/30\n",
      "4872/4872 [==============================] - 0s 20us/step - loss: 0.5514 - val_loss: 0.6214\n",
      "Epoch 15/30\n",
      "4872/4872 [==============================] - 0s 20us/step - loss: 0.5509 - val_loss: 0.6188\n",
      "Epoch 16/30\n",
      "4872/4872 [==============================] - 0s 21us/step - loss: 0.5518 - val_loss: 0.6144\n",
      "Epoch 17/30\n",
      "4872/4872 [==============================] - 0s 22us/step - loss: 0.5501 - val_loss: 0.6142\n",
      "Epoch 18/30\n",
      "4872/4872 [==============================] - 0s 22us/step - loss: 0.5496 - val_loss: 0.6123\n",
      "Epoch 19/30\n",
      "4872/4872 [==============================] - 0s 21us/step - loss: 0.5513 - val_loss: 0.6140\n",
      "Epoch 20/30\n",
      "4872/4872 [==============================] - 0s 24us/step - loss: 0.5483 - val_loss: 0.6133\n",
      "Epoch 21/30\n",
      "4872/4872 [==============================] - 0s 26us/step - loss: 0.5473 - val_loss: 0.6225\n",
      "Epoch 22/30\n",
      "4872/4872 [==============================] - 0s 33us/step - loss: 0.5482 - val_loss: 0.6091\n",
      "Epoch 23/30\n",
      "4872/4872 [==============================] - 0s 20us/step - loss: 0.5471 - val_loss: 0.6108\n",
      "Epoch 24/30\n",
      "4872/4872 [==============================] - 0s 23us/step - loss: 0.5453 - val_loss: 0.6095\n",
      "Epoch 25/30\n",
      "4872/4872 [==============================] - 0s 23us/step - loss: 0.5464 - val_loss: 0.6189\n",
      "Epoch 26/30\n",
      "4872/4872 [==============================] - 0s 23us/step - loss: 0.5473 - val_loss: 0.6172\n",
      "Epoch 27/30\n",
      "4872/4872 [==============================] - 0s 22us/step - loss: 0.5465 - val_loss: 0.6135\n",
      "Epoch 28/30\n",
      "4872/4872 [==============================] - 0s 22us/step - loss: 0.5459 - val_loss: 0.6164\n",
      "Epoch 29/30\n",
      "4872/4872 [==============================] - 0s 22us/step - loss: 0.5440 - val_loss: 0.6255\n",
      "Epoch 30/30\n",
      "4872/4872 [==============================] - 0s 23us/step - loss: 0.5459 - val_loss: 0.6078\n"
     ]
    }
   ],
   "source": [
    "history = model.fit(X_train_s, np.array(y_train), validation_data=(X_test_s, np.array(y_test)),\n",
    "                   epochs=30, batch_size=None)"
   ]
  },
  {
   "cell_type": "code",
   "execution_count": 16,
   "metadata": {},
   "outputs": [
    {
     "name": "stdout",
     "output_type": "stream",
     "text": [
      "[array([[ 1.43187135e-01,  4.27886456e-01, -2.84283787e-01,\n",
      "        -8.80103856e-02, -1.58028156e-01,  1.37019113e-01,\n",
      "         1.40133530e-01,  2.50524700e-01,  2.39715040e-01,\n",
      "         3.83972675e-01, -3.41221362e-01, -1.48651168e-01],\n",
      "       [-1.72412783e-01,  8.76029506e-02, -1.27503335e-01,\n",
      "        -1.57289669e-01, -3.77562672e-01,  1.75958619e-01,\n",
      "        -4.13995028e-01, -3.24251890e-01, -3.05952519e-01,\n",
      "         1.54081821e-01,  8.39341208e-02,  5.89382127e-02],\n",
      "       [-1.35312110e-01, -1.31631106e-01,  2.18480334e-01,\n",
      "        -3.34048957e-01,  2.41696890e-02,  6.08352087e-02,\n",
      "        -3.39007288e-01, -2.03762040e-01, -2.23380998e-01,\n",
      "         3.00745249e-01,  3.89128715e-01,  4.44524914e-01],\n",
      "       [ 3.35011125e-01, -1.32690117e-01,  3.64360631e-01,\n",
      "         1.38358697e-01, -6.44914061e-02, -4.88442816e-02,\n",
      "        -4.33702976e-01, -1.56356096e-02, -7.91288167e-02,\n",
      "         5.52321851e-01,  1.13465942e-01,  1.70233287e-02],\n",
      "       [-2.37263769e-01, -1.03057690e-01,  1.39467344e-01,\n",
      "         1.19371682e-01,  3.93693447e-01,  1.47444094e-02,\n",
      "         2.71684438e-01,  3.82350653e-01, -1.21228933e-01,\n",
      "         2.31103674e-01, -1.40250891e-01, -1.09302431e-01],\n",
      "       [ 2.35978723e-01, -1.03140049e-01,  2.68440042e-02,\n",
      "         2.19779268e-01,  1.31536186e-01, -2.71462407e-02,\n",
      "        -5.01879573e-01, -3.42798024e-01, -9.01169956e-01,\n",
      "         3.58938009e-01,  1.45076334e-01, -1.66419093e-02],\n",
      "       [ 5.70309721e-02,  1.91917792e-01,  4.94269073e-01,\n",
      "         2.64130771e-01, -6.38615370e-01,  2.08399277e-02,\n",
      "         6.39845252e-01,  2.74947107e-01,  2.18355715e-01,\n",
      "         3.15169275e-01, -5.59640765e-01, -5.41854613e-02],\n",
      "       [-2.76431710e-01, -2.48503163e-02, -1.93885505e-01,\n",
      "         1.48932070e-01, -3.19964439e-01, -1.23117775e-01,\n",
      "        -9.84350666e-02,  1.08732000e-01,  1.77446663e-01,\n",
      "        -9.04268399e-02,  4.17088956e-01, -3.85039300e-01],\n",
      "       [ 2.57164627e-01,  7.58025853e-04, -7.72954822e-02,\n",
      "        -1.19804509e-01,  2.81210780e-01, -3.64190012e-01,\n",
      "        -4.38106269e-01,  2.34333221e-02, -2.23774269e-01,\n",
      "         4.89345714e-02, -1.30734265e-01,  4.65742707e-01],\n",
      "       [-3.76392109e-03,  3.39879930e-01, -2.35719219e-01,\n",
      "        -1.07434332e-01, -6.92099854e-02,  3.57389092e-01,\n",
      "         9.85099003e-02, -1.76246569e-01, -2.25221943e-02,\n",
      "         2.84424067e-01, -6.84312508e-02, -6.46760017e-02],\n",
      "       [ 2.69957721e-01, -1.41406536e-01, -1.03212133e-01,\n",
      "        -1.72102407e-01,  5.10167897e-01,  1.56848580e-01,\n",
      "        -1.74178585e-01, -2.75392115e-01,  4.06494260e-01,\n",
      "         1.93716630e-01,  4.00415575e-03,  1.03936374e+00],\n",
      "       [-4.38116193e-02, -1.40301123e-01, -2.50737339e-01,\n",
      "        -2.94999152e-01, -3.29968601e-01,  4.53406513e-01,\n",
      "        -1.29422843e-01, -7.69185871e-02, -6.17513955e-01,\n",
      "        -1.13031961e-01,  2.79571474e-01, -2.59813547e-01]], dtype=float32), array([ 0.7534414 ,  0.9154    ,  0.68213964,  1.0735002 ,  0.96680677,\n",
      "        0.8125811 , -0.0878009 ,  1.0591831 , -0.20749082, -0.08191077,\n",
      "        0.8739218 ,  0.7443162 ], dtype=float32)]\n",
      "[array([[ 0.70821613],\n",
      "       [ 1.1449804 ],\n",
      "       [ 0.60348696],\n",
      "       [ 0.63106   ],\n",
      "       [ 0.5136116 ],\n",
      "       [ 0.74652517],\n",
      "       [-0.4123619 ],\n",
      "       [ 0.481563  ],\n",
      "       [-0.3535545 ],\n",
      "       [-0.8428904 ],\n",
      "       [ 0.9258151 ],\n",
      "       [ 0.42313653]], dtype=float32), array([0.5048313], dtype=float32)]\n"
     ]
    }
   ],
   "source": [
    "for layer in model.layers:\n",
    "    print(layer.get_weights())"
   ]
  },
  {
   "cell_type": "code",
   "execution_count": 17,
   "metadata": {},
   "outputs": [
    {
     "data": {
      "image/png": "[encoded data removed]",
      "text/plain": [
       "<Figure size 432x288 with 1 Axes>"
      ]
     },
     "metadata": {
      "needs_background": "light"
     },
     "output_type": "display_data"
    }
   ],
   "source": [
    "plt.plot(history.history['loss'], label='Train loss')\n",
    "plt.plot(history.history['val_loss'], label='Test loss')\n",
    "plt.legend();"
   ]
  },
  {
   "cell_type": "code",
   "execution_count": 92,
   "metadata": {},
   "outputs": [
    {
     "data": {
      "text/plain": [
       "990.4296479225159"
      ]
     },
     "execution_count": 92,
     "metadata": {},
     "output_type": "execute_result"
    }
   ],
   "source": [
    "sum(abs(np.array(model.predict(X_test_s).T) - np.array(y_test))[0])"
   ]
  },
  {
   "cell_type": "markdown",
   "metadata": {},
   "source": [
    "## Adding Regularization"
   ]
  },
  {
   "cell_type": "markdown",
   "metadata": {},
   "source": [
    "Here's a helpful review article on regularization techniques: https://towardsdatascience.com/regularization-in-machine-learning-connecting-the-dots-c6e030bfaddd"
   ]
  },
  {
   "cell_type": "code",
   "execution_count": 60,
   "metadata": {},
   "outputs": [],
   "source": [
    "from keras import regularizers"
   ]
  },
  {
   "cell_type": "code",
   "execution_count": 61,
   "metadata": {},
   "outputs": [
    {
     "name": "stdout",
     "output_type": "stream",
     "text": [
      "Train on 4872 samples, validate on 1625 samples\n",
      "Epoch 1/42\n",
      "4872/4872 [==============================] - 0s 102us/step - loss: 21.8108 - val_loss: 14.7922\n",
      "Epoch 2/42\n",
      "4872/4872 [==============================] - 0s 21us/step - loss: 9.7715 - val_loss: 5.8281\n",
      "Epoch 3/42\n",
      "4872/4872 [==============================] - 0s 26us/step - loss: 4.5041 - val_loss: 3.5438\n",
      "Epoch 4/42\n",
      "4872/4872 [==============================] - 0s 24us/step - loss: 3.2176 - val_loss: 2.8193\n",
      "Epoch 5/42\n",
      "4872/4872 [==============================] - 0s 22us/step - loss: 2.5861 - val_loss: 2.3016\n",
      "Epoch 6/42\n",
      "4872/4872 [==============================] - 0s 22us/step - loss: 2.0847 - val_loss: 1.8772\n",
      "Epoch 7/42\n",
      "4872/4872 [==============================] - 0s 22us/step - loss: 1.6927 - val_loss: 1.5547\n",
      "Epoch 8/42\n",
      "4872/4872 [==============================] - 0s 21us/step - loss: 1.4036 - val_loss: 1.3056\n",
      "Epoch 9/42\n",
      "4872/4872 [==============================] - 0s 21us/step - loss: 1.1983 - val_loss: 1.1461\n",
      "Epoch 10/42\n",
      "4872/4872 [==============================] - 0s 22us/step - loss: 1.0590 - val_loss: 1.0376\n",
      "Epoch 11/42\n",
      "4872/4872 [==============================] - 0s 23us/step - loss: 0.9628 - val_loss: 0.9701\n",
      "Epoch 12/42\n",
      "4872/4872 [==============================] - 0s 22us/step - loss: 0.8965 - val_loss: 0.9082\n",
      "Epoch 13/42\n",
      "4872/4872 [==============================] - 0s 23us/step - loss: 0.8482 - val_loss: 0.8696\n",
      "Epoch 14/42\n",
      "4872/4872 [==============================] - 0s 24us/step - loss: 0.8134 - val_loss: 0.8440\n",
      "Epoch 15/42\n",
      "4872/4872 [==============================] - 0s 23us/step - loss: 0.7874 - val_loss: 0.8216\n",
      "Epoch 16/42\n",
      "4872/4872 [==============================] - 0s 23us/step - loss: 0.7675 - val_loss: 0.8031\n",
      "Epoch 17/42\n",
      "4872/4872 [==============================] - 0s 22us/step - loss: 0.7506 - val_loss: 0.7890\n",
      "Epoch 18/42\n",
      "4872/4872 [==============================] - 0s 23us/step - loss: 0.7376 - val_loss: 0.7795\n",
      "Epoch 19/42\n",
      "4872/4872 [==============================] - 0s 22us/step - loss: 0.7251 - val_loss: 0.7661\n",
      "Epoch 20/42\n",
      "4872/4872 [==============================] - 0s 24us/step - loss: 0.7161 - val_loss: 0.7641\n",
      "Epoch 21/42\n",
      "4872/4872 [==============================] - 0s 25us/step - loss: 0.7079 - val_loss: 0.7504\n",
      "Epoch 22/42\n",
      "4872/4872 [==============================] - 0s 25us/step - loss: 0.7013 - val_loss: 0.7444\n",
      "Epoch 23/42\n",
      "4872/4872 [==============================] - 0s 24us/step - loss: 0.6944 - val_loss: 0.7397\n",
      "Epoch 24/42\n",
      "4872/4872 [==============================] - 0s 25us/step - loss: 0.6887 - val_loss: 0.7366\n",
      "Epoch 25/42\n",
      "4872/4872 [==============================] - 0s 27us/step - loss: 0.6843 - val_loss: 0.7333\n",
      "Epoch 26/42\n",
      "4872/4872 [==============================] - 0s 30us/step - loss: 0.6804 - val_loss: 0.7254\n",
      "Epoch 27/42\n",
      "4872/4872 [==============================] - 0s 28us/step - loss: 0.6774 - val_loss: 0.7208\n",
      "Epoch 28/42\n",
      "4872/4872 [==============================] - 0s 22us/step - loss: 0.6735 - val_loss: 0.7190\n",
      "Epoch 29/42\n",
      "4872/4872 [==============================] - 0s 25us/step - loss: 0.6704 - val_loss: 0.7091\n",
      "Epoch 30/42\n",
      "4872/4872 [==============================] - 0s 27us/step - loss: 0.6650 - val_loss: 0.7126\n",
      "Epoch 31/42\n",
      "4872/4872 [==============================] - 0s 26us/step - loss: 0.6650 - val_loss: 0.7049\n",
      "Epoch 32/42\n",
      "4872/4872 [==============================] - 0s 25us/step - loss: 0.6620 - val_loss: 0.7079\n",
      "Epoch 33/42\n",
      "4872/4872 [==============================] - 0s 25us/step - loss: 0.6591 - val_loss: 0.7016\n",
      "Epoch 34/42\n",
      "4872/4872 [==============================] - 0s 26us/step - loss: 0.6564 - val_loss: 0.7023\n",
      "Epoch 35/42\n",
      "4872/4872 [==============================] - 0s 23us/step - loss: 0.6547 - val_loss: 0.7043\n",
      "Epoch 36/42\n",
      "4872/4872 [==============================] - 0s 22us/step - loss: 0.6533 - val_loss: 0.6938\n",
      "Epoch 37/42\n",
      "4872/4872 [==============================] - 0s 26us/step - loss: 0.6511 - val_loss: 0.6977\n",
      "Epoch 38/42\n",
      "4872/4872 [==============================] - 0s 23us/step - loss: 0.6500 - val_loss: 0.6951\n",
      "Epoch 39/42\n",
      "4872/4872 [==============================] - 0s 24us/step - loss: 0.6478 - val_loss: 0.6905\n",
      "Epoch 40/42\n",
      "4872/4872 [==============================] - 0s 24us/step - loss: 0.6465 - val_loss: 0.6937\n",
      "Epoch 41/42\n",
      "4872/4872 [==============================] - 0s 26us/step - loss: 0.6446 - val_loss: 0.6913\n",
      "Epoch 42/42\n",
      "4872/4872 [==============================] - 0s 29us/step - loss: 0.6428 - val_loss: 0.6864\n"
     ]
    }
   ],
   "source": [
    "model_r = Sequential()\n",
    "\n",
    "n_input = X_train_s.shape[1]\n",
    "\n",
    "model_r.add(Dense(n_input, activation='relu',\n",
    "                 kernel_regularizer=regularizers.l2(0.01)))\n",
    "model_r.add(Dense(1,\n",
    "                 kernel_regularizer=regularizers.l2(0.01)))\n",
    "\n",
    "model_r.compile(optimizer='adam', loss='mean_squared_error')\n",
    "\n",
    "history_r = model_r.fit(X_train_s, np.array(y_train), validation_data=(X_test_s, np.array(y_test)),\n",
    "                       epochs=42, batch_size=None)"
   ]
  },
  {
   "cell_type": "code",
   "execution_count": 62,
   "metadata": {},
   "outputs": [
    {
     "data": {
      "image/png": "[encoded data removed]",
      "text/plain": [
       "<Figure size 432x288 with 1 Axes>"
      ]
     },
     "metadata": {
      "needs_background": "light"
     },
     "output_type": "display_data"
    }
   ],
   "source": [
    "plt.plot(history_r.history['loss'], label='Training loss')\n",
    "plt.plot(history_r.history['val_loss'], label='Testing loss')\n",
    "plt.legend();"
   ]
  },
  {
   "cell_type": "markdown",
   "metadata": {},
   "source": [
    "#### Examining Our Predictions"
   ]
  },
  {
   "cell_type": "code",
   "execution_count": 63,
   "metadata": {},
   "outputs": [
    {
     "data": {
      "text/plain": [
       "array([[5.71],\n",
       "       [5.49],\n",
       "       [4.65],\n",
       "       [5.9 ],\n",
       "       [4.93],\n",
       "       [5.74],\n",
       "       [5.56],\n",
       "       [4.89],\n",
       "       [5.56],\n",
       "       [5.93]], dtype=float32)"
      ]
     },
     "execution_count": 63,
     "metadata": {},
     "output_type": "execute_result"
    }
   ],
   "source": [
    "model_r.predict(X_test_s[:10]).round(2)"
   ]
  },
  {
   "cell_type": "code",
   "execution_count": 64,
   "metadata": {},
   "outputs": [
    {
     "data": {
      "text/plain": [
       "930     5\n",
       "143     5\n",
       "1037    5\n",
       "4212    5\n",
       "1032    5\n",
       "5236    7\n",
       "4651    7\n",
       "4       5\n",
       "1091    6\n",
       "1536    6\n",
       "Name: quality, dtype: int64"
      ]
     },
     "execution_count": 64,
     "metadata": {},
     "output_type": "execute_result"
    }
   ],
   "source": [
    "y_test[:10]"
   ]
  },
  {
   "cell_type": "code",
   "execution_count": 65,
   "metadata": {},
   "outputs": [
    {
     "data": {
      "text/plain": [
       "array([[5.7084174, 5.4947314, 4.6547422, ..., 6.0635967, 5.249396 ,\n",
       "        6.2447305]], dtype=float32)"
      ]
     },
     "execution_count": 65,
     "metadata": {},
     "output_type": "execute_result"
    }
   ],
   "source": [
    "model_r.predict(X_test_s).T"
   ]
  },
  {
   "cell_type": "code",
   "execution_count": 66,
   "metadata": {},
   "outputs": [
    {
     "data": {
      "text/plain": [
       "array([ 0.70841742,  0.49473143, -0.34525776, ...,  1.06359673,\n",
       "        0.24939585,  0.24473047])"
      ]
     },
     "execution_count": 66,
     "metadata": {},
     "output_type": "execute_result"
    }
   ],
   "source": [
    "(np.array(model_r.predict(X_test_s).T) - np.array(y_test))[0]"
   ]
  },
  {
   "cell_type": "code",
   "execution_count": 91,
   "metadata": {},
   "outputs": [
    {
     "data": {
      "text/plain": [
       "988.8581104278564"
      ]
     },
     "execution_count": 91,
     "metadata": {},
     "output_type": "execute_result"
    }
   ],
   "source": [
    "sum(abs(np.array(model_r.predict(X_test_s).T) - np.array(y_test))[0])"
   ]
  },
  {
   "cell_type": "markdown",
   "metadata": {},
   "source": [
    "### Dropout"
   ]
  },
  {
   "cell_type": "markdown",
   "metadata": {},
   "source": [
    "Here's a new regularization idea: Turn some neurons off during training. We'll assign probabilities of 'dropout' and then let fate decide.\n",
    "\n",
    "$\\rightarrow$ Why is this a good idea? *Is* it a good idea?\n",
    "\n",
    "Was this sort of regularization available to us before? Why (not)?"
   ]
  },
  {
   "cell_type": "code",
   "execution_count": 69,
   "metadata": {},
   "outputs": [],
   "source": [
    "from keras.layers import Dropout"
   ]
  },
  {
   "cell_type": "code",
   "execution_count": 70,
   "metadata": {},
   "outputs": [
    {
     "name": "stdout",
     "output_type": "stream",
     "text": [
      "Train on 4872 samples, validate on 1625 samples\n",
      "Epoch 1/42\n",
      "4872/4872 [==============================] - 0s 94us/step - loss: 27.6591 - val_loss: 20.3595\n",
      "Epoch 2/42\n",
      "4872/4872 [==============================] - 0s 25us/step - loss: 14.7398 - val_loss: 9.3959\n",
      "Epoch 3/42\n",
      "4872/4872 [==============================] - 0s 24us/step - loss: 7.2845 - val_loss: 4.2080\n",
      "Epoch 4/42\n",
      "4872/4872 [==============================] - 0s 27us/step - loss: 4.6226 - val_loss: 2.6519\n",
      "Epoch 5/42\n",
      "4872/4872 [==============================] - 0s 29us/step - loss: 3.8449 - val_loss: 2.0448\n",
      "Epoch 6/42\n",
      "4872/4872 [==============================] - 0s 27us/step - loss: 3.3207 - val_loss: 1.6960\n",
      "Epoch 7/42\n",
      "4872/4872 [==============================] - 0s 25us/step - loss: 2.8525 - val_loss: 1.4292\n",
      "Epoch 8/42\n",
      "4872/4872 [==============================] - 0s 28us/step - loss: 2.5892 - val_loss: 1.2295\n",
      "Epoch 9/42\n",
      "4872/4872 [==============================] - 0s 24us/step - loss: 2.3803 - val_loss: 1.0764\n",
      "Epoch 10/42\n",
      "4872/4872 [==============================] - 0s 23us/step - loss: 2.2707 - val_loss: 0.9639\n",
      "Epoch 11/42\n",
      "4872/4872 [==============================] - 0s 28us/step - loss: 2.0043 - val_loss: 0.8920\n",
      "Epoch 12/42\n",
      "4872/4872 [==============================] - 0s 25us/step - loss: 2.0570 - val_loss: 0.8321\n",
      "Epoch 13/42\n",
      "4872/4872 [==============================] - 0s 24us/step - loss: 1.8180 - val_loss: 0.8128\n",
      "Epoch 14/42\n",
      "4872/4872 [==============================] - 0s 27us/step - loss: 1.8110 - val_loss: 0.7592\n",
      "Epoch 15/42\n",
      "4872/4872 [==============================] - 0s 25us/step - loss: 1.7642 - val_loss: 0.7190\n",
      "Epoch 16/42\n",
      "4872/4872 [==============================] - 0s 25us/step - loss: 1.6718 - val_loss: 0.7142\n",
      "Epoch 17/42\n",
      "4872/4872 [==============================] - 0s 26us/step - loss: 1.5862 - val_loss: 0.7088\n",
      "Epoch 18/42\n",
      "4872/4872 [==============================] - 0s 27us/step - loss: 1.6149 - val_loss: 0.6856\n",
      "Epoch 19/42\n",
      "4872/4872 [==============================] - 0s 26us/step - loss: 1.5185 - val_loss: 0.6715\n",
      "Epoch 20/42\n",
      "4872/4872 [==============================] - 0s 27us/step - loss: 1.5115 - val_loss: 0.6611\n",
      "Epoch 21/42\n",
      "4872/4872 [==============================] - 0s 25us/step - loss: 1.4288 - val_loss: 0.6540\n",
      "Epoch 22/42\n",
      "4872/4872 [==============================] - 0s 23us/step - loss: 1.4810 - val_loss: 0.6607\n",
      "Epoch 23/42\n",
      "4872/4872 [==============================] - 0s 23us/step - loss: 1.4536 - val_loss: 0.6607\n",
      "Epoch 24/42\n",
      "4872/4872 [==============================] - 0s 23us/step - loss: 1.4138 - val_loss: 0.6538\n",
      "Epoch 25/42\n",
      "4872/4872 [==============================] - 0s 22us/step - loss: 1.3706 - val_loss: 0.6508\n",
      "Epoch 26/42\n",
      "4872/4872 [==============================] - 0s 23us/step - loss: 1.3503 - val_loss: 0.6584\n",
      "Epoch 27/42\n",
      "4872/4872 [==============================] - 0s 23us/step - loss: 1.3399 - val_loss: 0.6549\n",
      "Epoch 28/42\n",
      "4872/4872 [==============================] - 0s 23us/step - loss: 1.2818 - val_loss: 0.6499\n",
      "Epoch 29/42\n",
      "4872/4872 [==============================] - 0s 23us/step - loss: 1.3077 - val_loss: 0.6422\n",
      "Epoch 30/42\n",
      "4872/4872 [==============================] - 0s 23us/step - loss: 1.2884 - val_loss: 0.6471\n",
      "Epoch 31/42\n",
      "4872/4872 [==============================] - 0s 25us/step - loss: 1.2326 - val_loss: 0.6428\n",
      "Epoch 32/42\n",
      "4872/4872 [==============================] - 0s 27us/step - loss: 1.2616 - val_loss: 0.6393\n",
      "Epoch 33/42\n",
      "4872/4872 [==============================] - 0s 32us/step - loss: 1.2301 - val_loss: 0.6348\n",
      "Epoch 34/42\n",
      "4872/4872 [==============================] - 0s 24us/step - loss: 1.2043 - val_loss: 0.6362\n",
      "Epoch 35/42\n",
      "4872/4872 [==============================] - 0s 23us/step - loss: 1.1873 - val_loss: 0.6447\n",
      "Epoch 36/42\n",
      "4872/4872 [==============================] - 0s 24us/step - loss: 1.1717 - val_loss: 0.6465\n",
      "Epoch 37/42\n",
      "4872/4872 [==============================] - 0s 26us/step - loss: 1.1338 - val_loss: 0.6362\n",
      "Epoch 38/42\n",
      "4872/4872 [==============================] - 0s 25us/step - loss: 1.1076 - val_loss: 0.6297\n",
      "Epoch 39/42\n",
      "4872/4872 [==============================] - 0s 27us/step - loss: 1.0882 - val_loss: 0.6416\n",
      "Epoch 40/42\n",
      "4872/4872 [==============================] - 0s 28us/step - loss: 1.0871 - val_loss: 0.6363\n",
      "Epoch 41/42\n",
      "4872/4872 [==============================] - 0s 28us/step - loss: 1.0976 - val_loss: 0.6270\n",
      "Epoch 42/42\n",
      "4872/4872 [==============================] - 0s 28us/step - loss: 1.0630 - val_loss: 0.6273\n"
     ]
    }
   ],
   "source": [
    "model_d = Sequential()\n",
    "\n",
    "n_input = X_train_s.shape[1]\n",
    "\n",
    "model_d.add(Dense(n_input, activation='relu'))\n",
    "model_d.add(Dropout(0.2))\n",
    "model_d.add(Dense(1))\n",
    "\n",
    "model_d.compile(optimizer='adam', loss='mean_squared_error')\n",
    "\n",
    "history_d = model_d.fit(X_train_s, np.array(y_train), validation_data=(X_test_s, np.array(y_test)),\n",
    "                        epochs=42, batch_size=None)"
   ]
  },
  {
   "cell_type": "code",
   "execution_count": 71,
   "metadata": {},
   "outputs": [
    {
     "data": {
      "image/png": "[encoded data removed]",
      "text/plain": [
       "<Figure size 432x288 with 1 Axes>"
      ]
     },
     "metadata": {
      "needs_background": "light"
     },
     "output_type": "display_data"
    }
   ],
   "source": [
    "plt.plot(history_d.history['loss'], label='Training loss')\n",
    "plt.plot(history_d.history['val_loss'], label='Testing loss')\n",
    "plt.legend();"
   ]
  },
  {
   "cell_type": "code",
   "execution_count": 73,
   "metadata": {},
   "outputs": [],
   "source": [
    "# history_d.history['acc'][-1], history_d.history['val_acc'][-1]"
   ]
  },
  {
   "cell_type": "code",
   "execution_count": 90,
   "metadata": {},
   "outputs": [
    {
     "data": {
      "text/plain": [
       "1002.72434425354"
      ]
     },
     "execution_count": 90,
     "metadata": {},
     "output_type": "execute_result"
    }
   ],
   "source": [
    "sum(abs(np.array(model_d.predict(X_test_s).T) - np.array(y_test))[0])"
   ]
  },
  {
   "cell_type": "markdown",
   "metadata": {},
   "source": [
    "### Early Stopping"
   ]
  },
  {
   "cell_type": "markdown",
   "metadata": {},
   "source": [
    "Another idea is to try to terminate the training process early, even before some pre-specified number of epochs.\n",
    "\n",
    "$\\rightarrow$ Why is this a good idea? *Is* it a good idea?\n",
    "\n",
    "Was this sort of regularization available to us before? Why (not)?"
   ]
  },
  {
   "cell_type": "code",
   "execution_count": 74,
   "metadata": {},
   "outputs": [],
   "source": [
    "from keras.callbacks import EarlyStopping"
   ]
  },
  {
   "cell_type": "code",
   "execution_count": 76,
   "metadata": {},
   "outputs": [
    {
     "name": "stdout",
     "output_type": "stream",
     "text": [
      "Train on 4872 samples, validate on 1625 samples\n",
      "Epoch 1/40\n",
      "4872/4872 [==============================] - 0s 93us/step - loss: 25.1607 - val_loss: 19.2411\n",
      "Epoch 2/40\n",
      "4872/4872 [==============================] - 0s 21us/step - loss: 14.3116 - val_loss: 10.1943\n",
      "Epoch 3/40\n",
      "4872/4872 [==============================] - 0s 21us/step - loss: 7.2812 - val_loss: 4.8679\n",
      "Epoch 4/40\n",
      "4872/4872 [==============================] - 0s 23us/step - loss: 3.7749 - val_loss: 2.7472\n",
      "Epoch 5/40\n",
      "4872/4872 [==============================] - 0s 23us/step - loss: 2.4138 - val_loss: 1.9364\n",
      "Epoch 6/40\n",
      "4872/4872 [==============================] - 0s 23us/step - loss: 1.8026 - val_loss: 1.5273\n",
      "Epoch 7/40\n",
      "4872/4872 [==============================] - 0s 23us/step - loss: 1.4544 - val_loss: 1.2747\n",
      "Epoch 8/40\n",
      "4872/4872 [==============================] - 0s 23us/step - loss: 1.2176 - val_loss: 1.0972\n",
      "Epoch 9/40\n",
      "4872/4872 [==============================] - 0s 23us/step - loss: 1.0500 - val_loss: 0.9634\n",
      "Epoch 10/40\n",
      "4872/4872 [==============================] - 0s 23us/step - loss: 0.9259 - val_loss: 0.8687\n",
      "Epoch 11/40\n",
      "4872/4872 [==============================] - 0s 22us/step - loss: 0.8378 - val_loss: 0.8006\n",
      "Epoch 12/40\n",
      "4872/4872 [==============================] - 0s 21us/step - loss: 0.7735 - val_loss: 0.7549\n",
      "Epoch 13/40\n",
      "4872/4872 [==============================] - 0s 22us/step - loss: 0.7259 - val_loss: 0.7211\n",
      "Epoch 14/40\n",
      "4872/4872 [==============================] - 0s 24us/step - loss: 0.6912 - val_loss: 0.6936\n",
      "Epoch 15/40\n",
      "4872/4872 [==============================] - 0s 30us/step - loss: 0.6665 - val_loss: 0.6775\n",
      "Epoch 16/40\n",
      "4872/4872 [==============================] - 0s 21us/step - loss: 0.6474 - val_loss: 0.6611\n",
      "Epoch 17/40\n",
      "4872/4872 [==============================] - 0s 22us/step - loss: 0.6325 - val_loss: 0.6534\n",
      "Epoch 18/40\n",
      "4872/4872 [==============================] - 0s 22us/step - loss: 0.6193 - val_loss: 0.6457\n",
      "Epoch 19/40\n",
      "4872/4872 [==============================] - 0s 23us/step - loss: 0.6082 - val_loss: 0.6399\n",
      "Epoch 20/40\n",
      "4872/4872 [==============================] - 0s 22us/step - loss: 0.6018 - val_loss: 0.6304\n",
      "Epoch 21/40\n",
      "4872/4872 [==============================] - 0s 21us/step - loss: 0.5943 - val_loss: 0.6294\n",
      "Epoch 22/40\n",
      "4872/4872 [==============================] - 0s 23us/step - loss: 0.5889 - val_loss: 0.6235\n",
      "Epoch 23/40\n",
      "4872/4872 [==============================] - 0s 24us/step - loss: 0.5841 - val_loss: 0.6234\n",
      "Epoch 24/40\n",
      "4872/4872 [==============================] - 0s 26us/step - loss: 0.5805 - val_loss: 0.6248\n",
      "Epoch 00024: early stopping\n"
     ]
    }
   ],
   "source": [
    "model_es = Sequential()\n",
    "\n",
    "n_input = X_train_s.shape[1]\n",
    "n_hidden = n_input\n",
    "\n",
    "model_es.add(Dense(n_hidden, input_dim=n_input, activation='relu'))\n",
    "model_es.add(Dense(1))\n",
    "\n",
    "model_es.compile(optimizer='adam', loss='mean_squared_error')\n",
    "\n",
    "early_stop = EarlyStopping(monitor='val_loss', min_delta=1e-08, patience=0, verbose=1,\n",
    "                           mode='auto')\n",
    "\n",
    "callbacks_list = [early_stop]\n",
    "\n",
    "history_es = model_es.fit(X_train_s, np.array(y_train), validation_data=(X_test_s, np.array(y_test)),\n",
    "                         epochs=40, batch_size=None, callbacks=callbacks_list)"
   ]
  },
  {
   "cell_type": "code",
   "execution_count": 77,
   "metadata": {},
   "outputs": [
    {
     "data": {
      "image/png": "[encoded data removed]",
      "text/plain": [
       "<Figure size 432x288 with 1 Axes>"
      ]
     },
     "metadata": {
      "needs_background": "light"
     },
     "output_type": "display_data"
    }
   ],
   "source": [
    "plt.plot(history_es.history['loss'], label='Training loss')\n",
    "plt.plot(history_es.history['val_loss'], label='Testing loss')\n",
    "plt.legend();"
   ]
  },
  {
   "cell_type": "code",
   "execution_count": 88,
   "metadata": {},
   "outputs": [
    {
     "data": {
      "text/plain": [
       "1006.5832643508911"
      ]
     },
     "execution_count": 88,
     "metadata": {},
     "output_type": "execute_result"
    }
   ],
   "source": [
    "sum(abs(np.array(model_es.predict(X_test_s).T) - np.array(y_test))[0])"
   ]
  },
  {
   "cell_type": "code",
   "execution_count": null,
   "metadata": {},
   "outputs": [],
   "source": []
  }
 ],
 "metadata": {
  "kernelspec": {
   "display_name": "Python 3",
   "language": "python",
   "name": "python3"
  },
  "language_info": {
   "codemirror_mode": {
    "name": "ipython",
    "version": 3
   },
   "file_extension": ".py",
   "mimetype": "text/x-python",
   "name": "python",
   "nbconvert_exporter": "python",
   "pygments_lexer": "ipython3",
   "version": "3.7.2"
  }
 },
 "nbformat": 4,
 "nbformat_minor": 2
}

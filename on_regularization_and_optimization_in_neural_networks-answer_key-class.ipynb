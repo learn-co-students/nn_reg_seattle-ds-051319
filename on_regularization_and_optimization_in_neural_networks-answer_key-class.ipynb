{
 "cells": [
  {
   "cell_type": "markdown",
   "metadata": {},
   "source": [
    "# Regularization and Optimization in Neural Networks\n",
    "\n",
    "## Regularization of NNs\n",
    "\n",
    "Does regularization make sense in the context of neural networks? <br/>\n",
    "\n",
    "Yes! We still have all of the salient ingredients: a loss function, overfitting vs. underfitting, and coefficients (weights) that could get too large.\n",
    "\n",
    "But there are now a few different flavors besides L1 and L2 regularization. (Note that L1 regularization is not common in the context of  neural networks.)"
   ]
  },
  {
   "cell_type": "code",
   "execution_count": 1,
   "metadata": {},
   "outputs": [
    {
     "name": "stderr",
     "output_type": "stream",
     "text": [
      "Using TensorFlow backend.\n"
     ]
    }
   ],
   "source": [
    "import numpy as np\n",
    "import pandas as pd\n",
    "from sklearn.model_selection import train_test_split\n",
    "from sklearn.preprocessing import StandardScaler\n",
    "from keras.models import Sequential\n",
    "from keras.layers import Dense\n",
    "from keras.utils import to_categorical\n",
    "from matplotlib import pyplot as plt\n",
    "%matplotlib inline"
   ]
  },
  {
   "cell_type": "code",
   "execution_count": 2,
   "metadata": {},
   "outputs": [
    {
     "data": {
      "text/html": [
       "<div>\n",
       "<style scoped>\n",
       "    .dataframe tbody tr th:only-of-type {\n",
       "        vertical-align: middle;\n",
       "    }\n",
       "\n",
       "    .dataframe tbody tr th {\n",
       "        vertical-align: top;\n",
       "    }\n",
       "\n",
       "    .dataframe thead th {\n",
       "        text-align: right;\n",
       "    }\n",
       "</style>\n",
       "<table border=\"1\" class=\"dataframe\">\n",
       "  <thead>\n",
       "    <tr style=\"text-align: right;\">\n",
       "      <th></th>\n",
       "      <th>fixed acidity</th>\n",
       "      <th>volatile acidity</th>\n",
       "      <th>citric acid</th>\n",
       "      <th>residual sugar</th>\n",
       "      <th>chlorides</th>\n",
       "      <th>free sulfur dioxide</th>\n",
       "      <th>total sulfur dioxide</th>\n",
       "      <th>density</th>\n",
       "      <th>pH</th>\n",
       "      <th>sulphates</th>\n",
       "      <th>alcohol</th>\n",
       "      <th>quality</th>\n",
       "      <th>red_wine</th>\n",
       "    </tr>\n",
       "  </thead>\n",
       "  <tbody>\n",
       "    <tr>\n",
       "      <th>0</th>\n",
       "      <td>7.4</td>\n",
       "      <td>0.70</td>\n",
       "      <td>0.00</td>\n",
       "      <td>1.9</td>\n",
       "      <td>0.076</td>\n",
       "      <td>11.0</td>\n",
       "      <td>34.0</td>\n",
       "      <td>0.9978</td>\n",
       "      <td>3.51</td>\n",
       "      <td>0.56</td>\n",
       "      <td>9.4</td>\n",
       "      <td>5</td>\n",
       "      <td>1</td>\n",
       "    </tr>\n",
       "    <tr>\n",
       "      <th>1</th>\n",
       "      <td>7.8</td>\n",
       "      <td>0.88</td>\n",
       "      <td>0.00</td>\n",
       "      <td>2.6</td>\n",
       "      <td>0.098</td>\n",
       "      <td>25.0</td>\n",
       "      <td>67.0</td>\n",
       "      <td>0.9968</td>\n",
       "      <td>3.20</td>\n",
       "      <td>0.68</td>\n",
       "      <td>9.8</td>\n",
       "      <td>5</td>\n",
       "      <td>1</td>\n",
       "    </tr>\n",
       "    <tr>\n",
       "      <th>2</th>\n",
       "      <td>7.8</td>\n",
       "      <td>0.76</td>\n",
       "      <td>0.04</td>\n",
       "      <td>2.3</td>\n",
       "      <td>0.092</td>\n",
       "      <td>15.0</td>\n",
       "      <td>54.0</td>\n",
       "      <td>0.9970</td>\n",
       "      <td>3.26</td>\n",
       "      <td>0.65</td>\n",
       "      <td>9.8</td>\n",
       "      <td>5</td>\n",
       "      <td>1</td>\n",
       "    </tr>\n",
       "    <tr>\n",
       "      <th>3</th>\n",
       "      <td>11.2</td>\n",
       "      <td>0.28</td>\n",
       "      <td>0.56</td>\n",
       "      <td>1.9</td>\n",
       "      <td>0.075</td>\n",
       "      <td>17.0</td>\n",
       "      <td>60.0</td>\n",
       "      <td>0.9980</td>\n",
       "      <td>3.16</td>\n",
       "      <td>0.58</td>\n",
       "      <td>9.8</td>\n",
       "      <td>6</td>\n",
       "      <td>1</td>\n",
       "    </tr>\n",
       "    <tr>\n",
       "      <th>4</th>\n",
       "      <td>7.4</td>\n",
       "      <td>0.70</td>\n",
       "      <td>0.00</td>\n",
       "      <td>1.9</td>\n",
       "      <td>0.076</td>\n",
       "      <td>11.0</td>\n",
       "      <td>34.0</td>\n",
       "      <td>0.9978</td>\n",
       "      <td>3.51</td>\n",
       "      <td>0.56</td>\n",
       "      <td>9.4</td>\n",
       "      <td>5</td>\n",
       "      <td>1</td>\n",
       "    </tr>\n",
       "  </tbody>\n",
       "</table>\n",
       "</div>"
      ],
      "text/plain": [
       "   fixed acidity  volatile acidity  citric acid  residual sugar  chlorides  \\\n",
       "0            7.4              0.70         0.00             1.9      0.076   \n",
       "1            7.8              0.88         0.00             2.6      0.098   \n",
       "2            7.8              0.76         0.04             2.3      0.092   \n",
       "3           11.2              0.28         0.56             1.9      0.075   \n",
       "4            7.4              0.70         0.00             1.9      0.076   \n",
       "\n",
       "   free sulfur dioxide  total sulfur dioxide  density    pH  sulphates  \\\n",
       "0                 11.0                  34.0   0.9978  3.51       0.56   \n",
       "1                 25.0                  67.0   0.9968  3.20       0.68   \n",
       "2                 15.0                  54.0   0.9970  3.26       0.65   \n",
       "3                 17.0                  60.0   0.9980  3.16       0.58   \n",
       "4                 11.0                  34.0   0.9978  3.51       0.56   \n",
       "\n",
       "   alcohol  quality  red_wine  \n",
       "0      9.4        5         1  \n",
       "1      9.8        5         1  \n",
       "2      9.8        5         1  \n",
       "3      9.8        6         1  \n",
       "4      9.4        5         1  "
      ]
     },
     "execution_count": 2,
     "metadata": {},
     "output_type": "execute_result"
    }
   ],
   "source": [
    "wine = pd.read_csv('wine.csv')\n",
    "wine.head()"
   ]
  },
  {
   "cell_type": "code",
   "execution_count": 3,
   "metadata": {},
   "outputs": [],
   "source": [
    "X = wine.drop('quality', axis=1)\n",
    "y = wine.quality"
   ]
  },
  {
   "cell_type": "code",
   "execution_count": 4,
   "metadata": {},
   "outputs": [
    {
     "data": {
      "text/plain": [
       "6    2836\n",
       "5    2138\n",
       "7    1079\n",
       "4     216\n",
       "8     193\n",
       "3      30\n",
       "9       5\n",
       "Name: quality, dtype: int64"
      ]
     },
     "execution_count": 4,
     "metadata": {},
     "output_type": "execute_result"
    }
   ],
   "source": [
    "wine['quality'].value_counts()"
   ]
  },
  {
   "cell_type": "code",
   "execution_count": 5,
   "metadata": {
    "scrolled": true
   },
   "outputs": [],
   "source": [
    "X_train, X_test, y_train, y_test = train_test_split(X, y,\n",
    "                                                    random_state=11, stratify=y)\n",
    "ss = StandardScaler()\n",
    "X_train_s = ss.fit_transform(X_train).astype(np.int32)\n",
    "X_test_s = ss.transform(X_test).astype(np.int32)"
   ]
  },
  {
   "cell_type": "code",
   "execution_count": 6,
   "metadata": {},
   "outputs": [],
   "source": [
    "y_train_c = to_categorical(y_train).astype(np.int32)\n",
    "y_test_c = to_categorical(y_test).astype(np.int32)"
   ]
  },
  {
   "cell_type": "code",
   "execution_count": 7,
   "metadata": {},
   "outputs": [],
   "source": [
    "model = Sequential()\n",
    "\n",
    "n_input = X_train_s.shape[1]\n",
    "\n",
    "model.add(Dense(n_input, activation='relu'))\n",
    "model.add(Dense(10, activation='softmax'))"
   ]
  },
  {
   "cell_type": "code",
   "execution_count": 8,
   "metadata": {},
   "outputs": [
    {
     "name": "stdout",
     "output_type": "stream",
     "text": [
      "WARNING:tensorflow:From /Users/gdamico/anaconda3/lib/python3.7/site-packages/tensorflow/python/framework/op_def_library.py:263: colocate_with (from tensorflow.python.framework.ops) is deprecated and will be removed in a future version.\n",
      "Instructions for updating:\n",
      "Colocations handled automatically by placer.\n"
     ]
    }
   ],
   "source": [
    "model.compile(optimizer='adam', loss='categorical_crossentropy', metrics=['accuracy'])"
   ]
  },
  {
   "cell_type": "markdown",
   "metadata": {},
   "source": [
    "By the way, here is a helpful blog post that goes carefully through a list of similarly-named different activation functions and loss functions: https://gombru.github.io/2018/05/23/cross_entropy_loss/"
   ]
  },
  {
   "cell_type": "code",
   "execution_count": 19,
   "metadata": {},
   "outputs": [
    {
     "name": "stdout",
     "output_type": "stream",
     "text": [
      "Train on 4872 samples, validate on 1625 samples\n",
      "Epoch 1/30\n",
      "4872/4872 [==============================] - 0s 63us/step - loss: 2.0473 - acc: 0.2654 - val_loss: 1.7509 - val_acc: 0.4068\n",
      "Epoch 2/30\n",
      "4872/4872 [==============================] - 0s 23us/step - loss: 1.5729 - acc: 0.4399 - val_loss: 1.4330 - val_acc: 0.4658\n",
      "Epoch 3/30\n",
      "4872/4872 [==============================] - 0s 23us/step - loss: 1.3473 - acc: 0.4745 - val_loss: 1.2998 - val_acc: 0.4745\n",
      "Epoch 4/30\n",
      "4872/4872 [==============================] - 0s 24us/step - loss: 1.2555 - acc: 0.4797 - val_loss: 1.2452 - val_acc: 0.4757\n",
      "Epoch 5/30\n",
      "4872/4872 [==============================] - 0s 25us/step - loss: 1.2108 - acc: 0.4897 - val_loss: 1.2178 - val_acc: 0.4868\n",
      "Epoch 6/30\n",
      "4872/4872 [==============================] - 0s 25us/step - loss: 1.1844 - acc: 0.4910 - val_loss: 1.1998 - val_acc: 0.4886\n",
      "Epoch 7/30\n",
      "4872/4872 [==============================] - 0s 24us/step - loss: 1.1668 - acc: 0.4994 - val_loss: 1.1898 - val_acc: 0.4868\n",
      "Epoch 8/30\n",
      "4872/4872 [==============================] - 0s 26us/step - loss: 1.1545 - acc: 0.4984 - val_loss: 1.1814 - val_acc: 0.4855\n",
      "Epoch 9/30\n",
      "4872/4872 [==============================] - 0s 31us/step - loss: 1.1454 - acc: 0.4988 - val_loss: 1.1747 - val_acc: 0.4898\n",
      "Epoch 10/30\n",
      "4872/4872 [==============================] - 0s 38us/step - loss: 1.1385 - acc: 0.5018 - val_loss: 1.1722 - val_acc: 0.4868\n",
      "Epoch 11/30\n",
      "4872/4872 [==============================] - 0s 29us/step - loss: 1.1324 - acc: 0.5021 - val_loss: 1.1682 - val_acc: 0.4874\n",
      "Epoch 12/30\n",
      "4872/4872 [==============================] - 0s 26us/step - loss: 1.1278 - acc: 0.5082 - val_loss: 1.1674 - val_acc: 0.4997\n",
      "Epoch 13/30\n",
      "4872/4872 [==============================] - 0s 25us/step - loss: 1.1238 - acc: 0.5103 - val_loss: 1.1649 - val_acc: 0.4886\n",
      "Epoch 14/30\n",
      "4872/4872 [==============================] - 0s 26us/step - loss: 1.1205 - acc: 0.5107 - val_loss: 1.1631 - val_acc: 0.4855\n",
      "Epoch 15/30\n",
      "4872/4872 [==============================] - 0s 29us/step - loss: 1.1169 - acc: 0.5088 - val_loss: 1.1620 - val_acc: 0.4886\n",
      "Epoch 16/30\n",
      "4872/4872 [==============================] - 0s 26us/step - loss: 1.1147 - acc: 0.5084 - val_loss: 1.1594 - val_acc: 0.4880\n",
      "Epoch 17/30\n",
      "4872/4872 [==============================] - 0s 23us/step - loss: 1.1123 - acc: 0.5101 - val_loss: 1.1575 - val_acc: 0.4954\n",
      "Epoch 18/30\n",
      "4872/4872 [==============================] - 0s 23us/step - loss: 1.1100 - acc: 0.5105 - val_loss: 1.1570 - val_acc: 0.4966\n",
      "Epoch 19/30\n",
      "4872/4872 [==============================] - 0s 23us/step - loss: 1.1085 - acc: 0.5113 - val_loss: 1.1568 - val_acc: 0.4898\n",
      "Epoch 20/30\n",
      "4872/4872 [==============================] - 0s 24us/step - loss: 1.1061 - acc: 0.5107 - val_loss: 1.1565 - val_acc: 0.4898\n",
      "Epoch 21/30\n",
      "4872/4872 [==============================] - 0s 24us/step - loss: 1.1046 - acc: 0.5135 - val_loss: 1.1556 - val_acc: 0.4849\n",
      "Epoch 22/30\n",
      "4872/4872 [==============================] - 0s 24us/step - loss: 1.1030 - acc: 0.5135 - val_loss: 1.1560 - val_acc: 0.4880\n",
      "Epoch 23/30\n",
      "4872/4872 [==============================] - 0s 27us/step - loss: 1.1017 - acc: 0.5111 - val_loss: 1.1550 - val_acc: 0.4966\n",
      "Epoch 24/30\n",
      "4872/4872 [==============================] - 0s 27us/step - loss: 1.1006 - acc: 0.5160 - val_loss: 1.1541 - val_acc: 0.4917\n",
      "Epoch 25/30\n",
      "4872/4872 [==============================] - 0s 29us/step - loss: 1.0997 - acc: 0.5133 - val_loss: 1.1538 - val_acc: 0.4911\n",
      "Epoch 26/30\n",
      "4872/4872 [==============================] - 0s 27us/step - loss: 1.0977 - acc: 0.5131 - val_loss: 1.1543 - val_acc: 0.4923\n",
      "Epoch 27/30\n",
      "4872/4872 [==============================] - 0s 24us/step - loss: 1.0976 - acc: 0.5107 - val_loss: 1.1539 - val_acc: 0.4942\n",
      "Epoch 28/30\n",
      "4872/4872 [==============================] - 0s 24us/step - loss: 1.0959 - acc: 0.5185 - val_loss: 1.1521 - val_acc: 0.4929\n",
      "Epoch 29/30\n",
      "4872/4872 [==============================] - 0s 25us/step - loss: 1.0956 - acc: 0.5148 - val_loss: 1.1528 - val_acc: 0.4948\n",
      "Epoch 30/30\n",
      "4872/4872 [==============================] - 0s 23us/step - loss: 1.0949 - acc: 0.5150 - val_loss: 1.1521 - val_acc: 0.4929\n"
     ]
    }
   ],
   "source": [
    "history = model.fit(X_train_s, y_train_c, validation_data=(X_test_s, y_test_c),\n",
    "                   epochs=30, batch_size=None)"
   ]
  },
  {
   "cell_type": "code",
   "execution_count": 20,
   "metadata": {},
   "outputs": [
    {
     "name": "stdout",
     "output_type": "stream",
     "text": [
      "[array([[ 0.38455003,  0.00995534, -0.0653325 ,  0.2484422 , -0.15754016,\n",
      "         0.20059112, -0.4818639 ,  0.10367136, -0.28214255,  0.0137123 ,\n",
      "         0.27859712, -0.05579067],\n",
      "       [ 0.22311403, -0.59849054, -0.47372523, -0.1851462 ,  0.49502864,\n",
      "        -0.07816668,  0.21446638,  0.06794906,  0.07655327, -0.09121287,\n",
      "        -0.10126437,  0.25386196],\n",
      "       [-0.02981859, -0.34815097, -0.11350621,  0.34768423, -0.6797364 ,\n",
      "        -0.3231568 , -0.15445328, -0.14886075,  0.11153347,  0.04659726,\n",
      "        -0.2456757 ,  0.6887898 ],\n",
      "       [ 0.2811405 ,  0.56747115,  0.07706505, -0.08164346, -0.6178518 ,\n",
      "         0.2633699 ,  0.22081675,  0.28995407, -0.10584678, -0.42155898,\n",
      "        -0.76468533, -0.40281475],\n",
      "       [ 0.23036478, -0.1571165 ,  0.1879805 , -0.18201335,  0.21609412,\n",
      "         0.26546457,  0.5435256 ,  0.29258278,  0.24909146, -0.19704999,\n",
      "         0.08575552, -0.01719054],\n",
      "       [-0.26582104,  0.04322278,  0.04006689,  0.15174158, -0.2901427 ,\n",
      "        -0.7161106 ,  0.05322453,  0.2802334 ,  0.48448887, -0.26972428,\n",
      "        -0.31883308,  0.02382099],\n",
      "       [-0.12571175, -0.33135   ,  0.07347687, -0.22925472, -0.32196617,\n",
      "         0.2622837 , -0.1939526 ,  0.04618498, -0.3324323 ,  0.31081754,\n",
      "        -0.09061398,  0.51971704],\n",
      "       [ 0.59687895, -0.14027579, -0.7425394 , -0.6938297 , -0.00350756,\n",
      "         0.01171702,  0.12509951, -0.02554628, -0.46547976, -0.8363229 ,\n",
      "        -0.76912445,  0.01663378],\n",
      "       [ 0.19241133,  0.09070236,  0.22603247,  0.18015918,  0.03439339,\n",
      "         0.19223173, -0.31703535,  0.5057162 ,  0.11839239,  0.12555483,\n",
      "         0.5673479 , -0.4304199 ],\n",
      "       [-0.5687463 ,  0.1446022 , -0.14987095,  0.22878058, -0.48563832,\n",
      "        -0.52350205,  0.26426083, -0.37439185, -0.1931631 , -0.02492324,\n",
      "        -0.0218522 ,  0.00324868],\n",
      "       [-0.02308426,  0.2981808 ,  0.30883446,  0.80393004, -0.65395087,\n",
      "         0.19039646,  0.07544048, -0.14206548,  0.50606036, -0.587954  ,\n",
      "         0.21565951, -0.48099697],\n",
      "       [-0.1765969 ,  0.6573353 ,  0.427957  ,  0.22053216, -0.31752223,\n",
      "         0.70958424,  0.30817717,  0.3017618 ,  0.06780969,  0.28586668,\n",
      "        -0.3725967 ,  0.76794165]], dtype=float32), array([0.6190315 , 0.8333088 , 0.54705185, 0.1954948 , 0.00120857,\n",
      "       0.02378988, 0.7685513 , 0.6079784 , 0.08643743, 0.77310014,\n",
      "       0.13309148, 0.9021563 ], dtype=float32)]\n",
      "[array([[-7.0054686e-01, -1.1880298e+00, -1.0370359e+00,  4.5211503e-01,\n",
      "         5.0122052e-01,  1.9392855e-02,  4.8044404e-01,  5.1398695e-01,\n",
      "         8.4763199e-02, -8.6482507e-01],\n",
      "       [-6.8033123e-01, -1.3489588e+00, -9.8436332e-01, -1.0676811e+00,\n",
      "        -1.0265970e+00,  1.4010406e-01,  5.2509403e-01,  8.2409728e-01,\n",
      "         9.0291922e-04, -7.8549862e-01],\n",
      "       [-1.1070396e+00, -1.2062378e+00, -7.4607122e-01, -2.9745793e-02,\n",
      "        -2.9616913e-01, -1.7747228e-01,  6.4566612e-01, -1.4139186e-02,\n",
      "         5.6932187e-01,  1.5581179e-01],\n",
      "       [-4.8341963e-01, -1.2579913e-01, -4.3167973e-01, -1.3349140e-01,\n",
      "         5.5628564e-02, -2.3994966e-01,  1.4840569e-01,  5.9780675e-01,\n",
      "         4.3997237e-01,  3.1533709e-01],\n",
      "       [-1.7409723e-01, -6.1783618e-01, -7.2688115e-01,  2.4957591e-01,\n",
      "         3.1546813e-01, -2.7626732e-01, -2.7077186e-01, -9.0597922e-01,\n",
      "        -1.1993588e+00, -3.1970638e-01],\n",
      "       [ 3.1782802e-02,  9.7314782e-02, -6.0023791e-01, -2.3600899e-02,\n",
      "         7.5378016e-02,  3.1260097e-01, -5.7590050e-01, -8.0010295e-01,\n",
      "        -4.4008622e-01, -7.3099649e-01],\n",
      "       [-1.1058824e+00, -4.5513597e-01, -7.8033715e-01,  2.1346429e-01,\n",
      "         1.7570725e-01,  6.0874641e-01,  5.4481679e-01,  2.8003946e-01,\n",
      "         3.7906125e-02, -5.8370042e-01],\n",
      "       [-2.8296232e-01, -8.3047998e-01, -9.2341614e-01, -2.0965129e-01,\n",
      "        -1.1391663e-01,  6.7363530e-01,  7.3557533e-02, -4.2754820e-01,\n",
      "        -1.5428777e-01, -6.6866457e-01],\n",
      "       [-4.3129423e-01, -2.8450918e-01, -8.5422975e-01,  6.6093689e-01,\n",
      "        -9.7515565e-01, -7.0891738e-01, -1.6891475e-01,  3.3086695e-02,\n",
      "         5.4172575e-01,  6.8203814e-02],\n",
      "       [-8.3930898e-01, -1.1722801e+00, -5.0264525e-01, -1.0311406e+00,\n",
      "         6.2256444e-01,  3.4444278e-01,  8.6115226e-02,  7.7920139e-02,\n",
      "        -7.2859156e-01, -7.2098362e-01],\n",
      "       [-4.5202777e-01, -2.1885793e-01, -7.0434578e-02, -4.5191741e-01,\n",
      "         5.9303850e-01, -4.1040555e-01, -3.0275196e-01,  3.9427891e-01,\n",
      "        -1.9662045e-01, -1.3965780e-01],\n",
      "       [-9.3720430e-01, -4.5022157e-01, -9.2818058e-01, -3.8350654e-01,\n",
      "        -6.9204837e-02,  6.2240160e-01,  3.9869335e-01, -2.0530689e-01,\n",
      "        -4.0341994e-01, -1.0032649e+00]], dtype=float32), array([-0.5574379 , -0.529522  , -0.5363692 , -0.5270637 , -0.1672026 ,\n",
      "        0.3508072 ,  0.39458114,  0.1263017 , -0.10061789, -0.3803252 ],\n",
      "      dtype=float32)]\n"
     ]
    }
   ],
   "source": [
    "for layer in model.layers:\n",
    "    print(layer.get_weights())"
   ]
  },
  {
   "cell_type": "code",
   "execution_count": 21,
   "metadata": {},
   "outputs": [
    {
     "data": {
      "image/png": "[encoded data removed]",
      "text/plain": [
       "<Figure size 432x288 with 1 Axes>"
      ]
     },
     "metadata": {
      "needs_background": "light"
     },
     "output_type": "display_data"
    }
   ],
   "source": [
    "plt.plot(history.history['loss'], label='Train loss')\n",
    "plt.plot(history.history['val_loss'], label='Test loss')\n",
    "plt.legend();"
   ]
  },
  {
   "cell_type": "markdown",
   "metadata": {},
   "source": [
    "## Adding Regularization"
   ]
  },
  {
   "cell_type": "markdown",
   "metadata": {},
   "source": [
    "Here's a helpful review article on regularization techniques: https://towardsdatascience.com/regularization-in-machine-learning-connecting-the-dots-c6e030bfaddd"
   ]
  },
  {
   "cell_type": "code",
   "execution_count": 22,
   "metadata": {},
   "outputs": [
    {
     "name": "stdout",
     "output_type": "stream",
     "text": [
      "Train on 4872 samples, validate on 1625 samples\n",
      "Epoch 1/42\n",
      "4872/4872 [==============================] - 0s 85us/step - loss: 2.0763 - acc: 0.3510 - val_loss: 1.8448 - val_acc: 0.4135\n",
      "Epoch 2/42\n",
      "4872/4872 [==============================] - 0s 25us/step - loss: 1.6879 - acc: 0.4462 - val_loss: 1.5909 - val_acc: 0.4652\n",
      "Epoch 3/42\n",
      "4872/4872 [==============================] - 0s 25us/step - loss: 1.5013 - acc: 0.4904 - val_loss: 1.4630 - val_acc: 0.4818\n",
      "Epoch 4/42\n",
      "4872/4872 [==============================] - 0s 26us/step - loss: 1.4037 - acc: 0.4951 - val_loss: 1.3935 - val_acc: 0.4880\n",
      "Epoch 5/42\n",
      "4872/4872 [==============================] - 0s 25us/step - loss: 1.3485 - acc: 0.4936 - val_loss: 1.3522 - val_acc: 0.4917\n",
      "Epoch 6/42\n",
      "4872/4872 [==============================] - 0s 25us/step - loss: 1.3149 - acc: 0.4885 - val_loss: 1.3240 - val_acc: 0.4892\n",
      "Epoch 7/42\n",
      "4872/4872 [==============================] - 0s 33us/step - loss: 1.2915 - acc: 0.4940 - val_loss: 1.3056 - val_acc: 0.4954\n",
      "Epoch 8/42\n",
      "4872/4872 [==============================] - 0s 26us/step - loss: 1.2752 - acc: 0.4943 - val_loss: 1.2918 - val_acc: 0.4923\n",
      "Epoch 9/42\n",
      "4872/4872 [==============================] - 0s 27us/step - loss: 1.2635 - acc: 0.4920 - val_loss: 1.2808 - val_acc: 0.4911\n",
      "Epoch 10/42\n",
      "4872/4872 [==============================] - 0s 26us/step - loss: 1.2549 - acc: 0.4957 - val_loss: 1.2730 - val_acc: 0.4942\n",
      "Epoch 11/42\n",
      "4872/4872 [==============================] - 0s 24us/step - loss: 1.2479 - acc: 0.4955 - val_loss: 1.2673 - val_acc: 0.4898\n",
      "Epoch 12/42\n",
      "4872/4872 [==============================] - 0s 24us/step - loss: 1.2430 - acc: 0.4947 - val_loss: 1.2616 - val_acc: 0.4935\n",
      "Epoch 13/42\n",
      "4872/4872 [==============================] - 0s 24us/step - loss: 1.2378 - acc: 0.4947 - val_loss: 1.2581 - val_acc: 0.4929\n",
      "Epoch 14/42\n",
      "4872/4872 [==============================] - 0s 25us/step - loss: 1.2337 - acc: 0.4967 - val_loss: 1.2536 - val_acc: 0.4917\n",
      "Epoch 15/42\n",
      "4872/4872 [==============================] - 0s 27us/step - loss: 1.2304 - acc: 0.4953 - val_loss: 1.2523 - val_acc: 0.4911\n",
      "Epoch 16/42\n",
      "4872/4872 [==============================] - 0s 25us/step - loss: 1.2278 - acc: 0.4953 - val_loss: 1.2486 - val_acc: 0.4880\n",
      "Epoch 17/42\n",
      "4872/4872 [==============================] - 0s 25us/step - loss: 1.2253 - acc: 0.4967 - val_loss: 1.2471 - val_acc: 0.4948\n",
      "Epoch 18/42\n",
      "4872/4872 [==============================] - 0s 27us/step - loss: 1.2231 - acc: 0.4953 - val_loss: 1.2443 - val_acc: 0.4911\n",
      "Epoch 19/42\n",
      "4872/4872 [==============================] - 0s 27us/step - loss: 1.2215 - acc: 0.4940 - val_loss: 1.2421 - val_acc: 0.4923\n",
      "Epoch 20/42\n",
      "4872/4872 [==============================] - 0s 26us/step - loss: 1.2196 - acc: 0.4943 - val_loss: 1.2407 - val_acc: 0.4917\n",
      "Epoch 21/42\n",
      "4872/4872 [==============================] - 0s 24us/step - loss: 1.2179 - acc: 0.4963 - val_loss: 1.2393 - val_acc: 0.4911\n",
      "Epoch 22/42\n",
      "4872/4872 [==============================] - 0s 25us/step - loss: 1.2164 - acc: 0.4953 - val_loss: 1.2376 - val_acc: 0.4923\n",
      "Epoch 23/42\n",
      "4872/4872 [==============================] - 0s 29us/step - loss: 1.2148 - acc: 0.4998 - val_loss: 1.2380 - val_acc: 0.4905\n",
      "Epoch 24/42\n",
      "4872/4872 [==============================] - 0s 28us/step - loss: 1.2140 - acc: 0.4949 - val_loss: 1.2347 - val_acc: 0.4923\n",
      "Epoch 25/42\n",
      "4872/4872 [==============================] - 0s 26us/step - loss: 1.2120 - acc: 0.4961 - val_loss: 1.2336 - val_acc: 0.4880\n",
      "Epoch 26/42\n",
      "4872/4872 [==============================] - 0s 29us/step - loss: 1.2112 - acc: 0.4949 - val_loss: 1.2326 - val_acc: 0.4880\n",
      "Epoch 27/42\n",
      "4872/4872 [==============================] - 0s 35us/step - loss: 1.2095 - acc: 0.4977 - val_loss: 1.2321 - val_acc: 0.4923\n",
      "Epoch 28/42\n",
      "4872/4872 [==============================] - 0s 27us/step - loss: 1.2104 - acc: 0.4940 - val_loss: 1.2312 - val_acc: 0.4929\n",
      "Epoch 29/42\n",
      "4872/4872 [==============================] - 0s 29us/step - loss: 1.2080 - acc: 0.4963 - val_loss: 1.2306 - val_acc: 0.4868\n",
      "Epoch 30/42\n",
      "4872/4872 [==============================] - 0s 31us/step - loss: 1.2074 - acc: 0.4953 - val_loss: 1.2287 - val_acc: 0.4923\n",
      "Epoch 31/42\n",
      "4872/4872 [==============================] - 0s 25us/step - loss: 1.2063 - acc: 0.4940 - val_loss: 1.2276 - val_acc: 0.4923\n",
      "Epoch 32/42\n",
      "4872/4872 [==============================] - 0s 29us/step - loss: 1.2053 - acc: 0.4947 - val_loss: 1.2270 - val_acc: 0.4966\n",
      "Epoch 33/42\n",
      "4872/4872 [==============================] - 0s 25us/step - loss: 1.2051 - acc: 0.4908 - val_loss: 1.2269 - val_acc: 0.4917\n",
      "Epoch 34/42\n",
      "4872/4872 [==============================] - 0s 25us/step - loss: 1.2036 - acc: 0.4953 - val_loss: 1.2263 - val_acc: 0.4898\n",
      "Epoch 35/42\n",
      "4872/4872 [==============================] - 0s 28us/step - loss: 1.2031 - acc: 0.4949 - val_loss: 1.2253 - val_acc: 0.4911\n",
      "Epoch 36/42\n",
      "4872/4872 [==============================] - 0s 27us/step - loss: 1.2029 - acc: 0.4947 - val_loss: 1.2239 - val_acc: 0.4886\n",
      "Epoch 37/42\n",
      "4872/4872 [==============================] - 0s 29us/step - loss: 1.2019 - acc: 0.4943 - val_loss: 1.2227 - val_acc: 0.4935\n",
      "Epoch 38/42\n",
      "4872/4872 [==============================] - 0s 25us/step - loss: 1.2016 - acc: 0.4906 - val_loss: 1.2224 - val_acc: 0.4935\n",
      "Epoch 39/42\n",
      "4872/4872 [==============================] - 0s 26us/step - loss: 1.2010 - acc: 0.4953 - val_loss: 1.2231 - val_acc: 0.4905\n",
      "Epoch 40/42\n",
      "4872/4872 [==============================] - 0s 25us/step - loss: 1.2001 - acc: 0.4988 - val_loss: 1.2207 - val_acc: 0.4954\n",
      "Epoch 41/42\n",
      "4872/4872 [==============================] - 0s 25us/step - loss: 1.1994 - acc: 0.4926 - val_loss: 1.2200 - val_acc: 0.4942\n",
      "Epoch 42/42\n",
      "4872/4872 [==============================] - 0s 28us/step - loss: 1.1993 - acc: 0.4936 - val_loss: 1.2209 - val_acc: 0.4917\n"
     ]
    }
   ],
   "source": [
    "from keras import regularizers\n",
    "\n",
    "model_r = Sequential()\n",
    "\n",
    "n_input = X_train_s.shape[1]\n",
    "n_hidden = n_input\n",
    "\n",
    "model_r.add(Dense(n_hidden, input_dim=n_input, activation='relu',\n",
    "                 kernel_regularizer=regularizers.l2(0.01)))\n",
    "model_r.add(Dense(10, activation='softmax',\n",
    "                 kernel_regularizer=regularizers.l2(0.01)))\n",
    "\n",
    "model_r.compile(loss='categorical_crossentropy', optimizer='adam', metrics=['acc'])\n",
    "\n",
    "history_r = model_r.fit(X_train_s, y_train_c, validation_data=(X_test_s, y_test_c),\n",
    "                       epochs=42, batch_size=None)"
   ]
  },
  {
   "cell_type": "code",
   "execution_count": 23,
   "metadata": {},
   "outputs": [
    {
     "data": {
      "image/png": "[encoded data removed]",
      "text/plain": [
       "<Figure size 432x288 with 1 Axes>"
      ]
     },
     "metadata": {
      "needs_background": "light"
     },
     "output_type": "display_data"
    }
   ],
   "source": [
    "plt.plot(history_r.history['loss'], label='Training loss')\n",
    "plt.plot(history_r.history['val_loss'], label='Testing loss')\n",
    "plt.legend();"
   ]
  },
  {
   "cell_type": "code",
   "execution_count": 24,
   "metadata": {},
   "outputs": [
    {
     "data": {
      "text/plain": [
       "array([[0.  , 0.  , 0.  , 0.01, 0.05, 0.34, 0.43, 0.13, 0.03, 0.  ],\n",
       "       [0.  , 0.  , 0.  , 0.01, 0.03, 0.33, 0.48, 0.12, 0.03, 0.  ],\n",
       "       [0.  , 0.  , 0.  , 0.01, 0.06, 0.67, 0.22, 0.03, 0.01, 0.  ],\n",
       "       [0.  , 0.  , 0.  , 0.01, 0.03, 0.3 , 0.49, 0.13, 0.03, 0.  ],\n",
       "       [0.  , 0.  , 0.  , 0.01, 0.06, 0.62, 0.27, 0.04, 0.01, 0.  ]],\n",
       "      dtype=float32)"
      ]
     },
     "execution_count": 24,
     "metadata": {},
     "output_type": "execute_result"
    }
   ],
   "source": [
    "model_r.predict(X_test_s[:5]).round(2)"
   ]
  },
  {
   "cell_type": "code",
   "execution_count": 25,
   "metadata": {},
   "outputs": [
    {
     "data": {
      "text/plain": [
       "array([[0, 0, 0, 0, 0, 1, 0, 0, 0, 0],\n",
       "       [0, 0, 0, 0, 0, 1, 0, 0, 0, 0],\n",
       "       [0, 0, 0, 0, 0, 1, 0, 0, 0, 0],\n",
       "       [0, 0, 0, 0, 0, 1, 0, 0, 0, 0],\n",
       "       [0, 0, 0, 0, 0, 1, 0, 0, 0, 0]], dtype=int32)"
      ]
     },
     "execution_count": 25,
     "metadata": {},
     "output_type": "execute_result"
    }
   ],
   "source": [
    "y_test_c[:5]"
   ]
  },
  {
   "cell_type": "markdown",
   "metadata": {},
   "source": [
    "### Dropout"
   ]
  },
  {
   "cell_type": "markdown",
   "metadata": {},
   "source": [
    "Here's a new regularization idea: Turn some neurons off during training. We'll assign probabilities of 'dropout' and then let fate decide.\n",
    "\n",
    "$\\rightarrow$ Why is this a good idea? *Is* it a good idea?\n",
    "\n",
    "Was this sort of regularization available to us before? Why (not)?"
   ]
  },
  {
   "cell_type": "code",
   "execution_count": 26,
   "metadata": {},
   "outputs": [
    {
     "name": "stdout",
     "output_type": "stream",
     "text": [
      "WARNING:tensorflow:From /Users/gdamico/anaconda3/lib/python3.7/site-packages/keras/backend/tensorflow_backend.py:3445: calling dropout (from tensorflow.python.ops.nn_ops) with keep_prob is deprecated and will be removed in a future version.\n",
      "Instructions for updating:\n",
      "Please use `rate` instead of `keep_prob`. Rate should be set to `rate = 1 - keep_prob`.\n",
      "Train on 4872 samples, validate on 1625 samples\n",
      "Epoch 1/42\n",
      "4872/4872 [==============================] - 0s 94us/step - loss: 1.9179 - acc: 0.3606 - val_loss: 1.6457 - val_acc: 0.4185\n",
      "Epoch 2/42\n",
      "4872/4872 [==============================] - 0s 29us/step - loss: 1.5391 - acc: 0.4464 - val_loss: 1.4096 - val_acc: 0.4535\n",
      "Epoch 3/42\n",
      "4872/4872 [==============================] - 0s 29us/step - loss: 1.3805 - acc: 0.4624 - val_loss: 1.3050 - val_acc: 0.4763\n",
      "Epoch 4/42\n",
      "4872/4872 [==============================] - 0s 28us/step - loss: 1.3072 - acc: 0.4739 - val_loss: 1.2525 - val_acc: 0.4880\n",
      "Epoch 5/42\n",
      "4872/4872 [==============================] - 0s 28us/step - loss: 1.2574 - acc: 0.4774 - val_loss: 1.2237 - val_acc: 0.4911\n",
      "Epoch 6/42\n",
      "4872/4872 [==============================] - 0s 29us/step - loss: 1.2398 - acc: 0.4756 - val_loss: 1.2049 - val_acc: 0.4954\n",
      "Epoch 7/42\n",
      "4872/4872 [==============================] - 0s 29us/step - loss: 1.2112 - acc: 0.4760 - val_loss: 1.1918 - val_acc: 0.4991\n",
      "Epoch 8/42\n",
      "4872/4872 [==============================] - 0s 26us/step - loss: 1.1982 - acc: 0.4807 - val_loss: 1.1826 - val_acc: 0.4972\n",
      "Epoch 9/42\n",
      "4872/4872 [==============================] - 0s 26us/step - loss: 1.1903 - acc: 0.4881 - val_loss: 1.1749 - val_acc: 0.4966\n",
      "Epoch 10/42\n",
      "4872/4872 [==============================] - 0s 30us/step - loss: 1.1751 - acc: 0.4949 - val_loss: 1.1695 - val_acc: 0.4997\n",
      "Epoch 11/42\n",
      "4872/4872 [==============================] - 0s 30us/step - loss: 1.1690 - acc: 0.4904 - val_loss: 1.1649 - val_acc: 0.4997\n",
      "Epoch 12/42\n",
      "4872/4872 [==============================] - 0s 29us/step - loss: 1.1684 - acc: 0.4895 - val_loss: 1.1622 - val_acc: 0.4972\n",
      "Epoch 13/42\n",
      "4872/4872 [==============================] - 0s 27us/step - loss: 1.1620 - acc: 0.4934 - val_loss: 1.1583 - val_acc: 0.4966\n",
      "Epoch 14/42\n",
      "4872/4872 [==============================] - 0s 27us/step - loss: 1.1546 - acc: 0.5021 - val_loss: 1.1564 - val_acc: 0.5009\n",
      "Epoch 15/42\n",
      "4872/4872 [==============================] - 0s 29us/step - loss: 1.1524 - acc: 0.4899 - val_loss: 1.1561 - val_acc: 0.4985\n",
      "Epoch 16/42\n",
      "4872/4872 [==============================] - 0s 30us/step - loss: 1.1422 - acc: 0.5111 - val_loss: 1.1531 - val_acc: 0.5015\n",
      "Epoch 17/42\n",
      "4872/4872 [==============================] - 0s 28us/step - loss: 1.1454 - acc: 0.5064 - val_loss: 1.1521 - val_acc: 0.5034\n",
      "Epoch 18/42\n",
      "4872/4872 [==============================] - 0s 27us/step - loss: 1.1421 - acc: 0.5014 - val_loss: 1.1523 - val_acc: 0.4985\n",
      "Epoch 19/42\n",
      "4872/4872 [==============================] - 0s 32us/step - loss: 1.1401 - acc: 0.5039 - val_loss: 1.1505 - val_acc: 0.5009\n",
      "Epoch 20/42\n",
      "4872/4872 [==============================] - 0s 38us/step - loss: 1.1389 - acc: 0.5018 - val_loss: 1.1486 - val_acc: 0.5022\n",
      "Epoch 21/42\n",
      "4872/4872 [==============================] - 0s 27us/step - loss: 1.1416 - acc: 0.4992 - val_loss: 1.1484 - val_acc: 0.4997\n",
      "Epoch 22/42\n",
      "4872/4872 [==============================] - 0s 27us/step - loss: 1.1348 - acc: 0.5012 - val_loss: 1.1486 - val_acc: 0.4966\n",
      "Epoch 23/42\n",
      "4872/4872 [==============================] - 0s 25us/step - loss: 1.1356 - acc: 0.5066 - val_loss: 1.1472 - val_acc: 0.5009\n",
      "Epoch 24/42\n",
      "4872/4872 [==============================] - 0s 30us/step - loss: 1.1296 - acc: 0.5074 - val_loss: 1.1475 - val_acc: 0.4978\n",
      "Epoch 25/42\n",
      "4872/4872 [==============================] - 0s 32us/step - loss: 1.1317 - acc: 0.4977 - val_loss: 1.1462 - val_acc: 0.5015\n",
      "Epoch 26/42\n",
      "4872/4872 [==============================] - 0s 36us/step - loss: 1.1332 - acc: 0.5018 - val_loss: 1.1455 - val_acc: 0.4985\n",
      "Epoch 27/42\n",
      "4872/4872 [==============================] - 0s 29us/step - loss: 1.1260 - acc: 0.5035 - val_loss: 1.1448 - val_acc: 0.5009\n",
      "Epoch 28/42\n",
      "4872/4872 [==============================] - 0s 28us/step - loss: 1.1325 - acc: 0.5027 - val_loss: 1.1450 - val_acc: 0.4978\n",
      "Epoch 29/42\n",
      "4872/4872 [==============================] - 0s 26us/step - loss: 1.1232 - acc: 0.5060 - val_loss: 1.1450 - val_acc: 0.5022\n",
      "Epoch 30/42\n",
      "4872/4872 [==============================] - 0s 26us/step - loss: 1.1234 - acc: 0.5066 - val_loss: 1.1447 - val_acc: 0.4978\n",
      "Epoch 31/42\n",
      "4872/4872 [==============================] - 0s 30us/step - loss: 1.1220 - acc: 0.5090 - val_loss: 1.1436 - val_acc: 0.4978\n",
      "Epoch 32/42\n",
      "4872/4872 [==============================] - 0s 28us/step - loss: 1.1226 - acc: 0.5023 - val_loss: 1.1430 - val_acc: 0.4960\n",
      "Epoch 33/42\n",
      "4872/4872 [==============================] - 0s 26us/step - loss: 1.1204 - acc: 0.5043 - val_loss: 1.1432 - val_acc: 0.4960\n",
      "Epoch 34/42\n",
      "4872/4872 [==============================] - 0s 30us/step - loss: 1.1214 - acc: 0.5049 - val_loss: 1.1430 - val_acc: 0.4966\n",
      "Epoch 35/42\n",
      "4872/4872 [==============================] - 0s 27us/step - loss: 1.1154 - acc: 0.5068 - val_loss: 1.1432 - val_acc: 0.4942\n",
      "Epoch 36/42\n",
      "4872/4872 [==============================] - 0s 27us/step - loss: 1.1161 - acc: 0.5041 - val_loss: 1.1415 - val_acc: 0.5015\n",
      "Epoch 37/42\n",
      "4872/4872 [==============================] - 0s 26us/step - loss: 1.1258 - acc: 0.5010 - val_loss: 1.1414 - val_acc: 0.4960\n",
      "Epoch 38/42\n",
      "4872/4872 [==============================] - 0s 27us/step - loss: 1.1262 - acc: 0.5072 - val_loss: 1.1409 - val_acc: 0.5009\n",
      "Epoch 39/42\n",
      "4872/4872 [==============================] - 0s 36us/step - loss: 1.1158 - acc: 0.5113 - val_loss: 1.1412 - val_acc: 0.5009\n",
      "Epoch 40/42\n",
      "4872/4872 [==============================] - 0s 29us/step - loss: 1.1150 - acc: 0.5103 - val_loss: 1.1402 - val_acc: 0.4972\n",
      "Epoch 41/42\n",
      "4872/4872 [==============================] - 0s 31us/step - loss: 1.1151 - acc: 0.5070 - val_loss: 1.1395 - val_acc: 0.4997\n",
      "Epoch 42/42\n",
      "4872/4872 [==============================] - 0s 31us/step - loss: 1.1153 - acc: 0.5090 - val_loss: 1.1409 - val_acc: 0.4972\n"
     ]
    }
   ],
   "source": [
    "from keras.layers import Dropout\n",
    "\n",
    "model_d = Sequential()\n",
    "\n",
    "n_input = X_train_s.shape[1]\n",
    "n_hidden = n_input\n",
    "\n",
    "model_d.add(Dense(n_hidden, input_dim=n_input, activation='relu'))\n",
    "model_d.add(Dropout(rate=0.2))\n",
    "model_d.add(Dense(10, activation='softmax'))\n",
    "\n",
    "model_d.compile(loss='categorical_crossentropy', optimizer='adam', metrics=['acc'])\n",
    "\n",
    "history_d = model_d.fit(X_train_s, y_train_c, validation_data=(X_test_s, y_test_c),\n",
    "                       epochs=42, batch_size=None)"
   ]
  },
  {
   "cell_type": "code",
   "execution_count": 27,
   "metadata": {},
   "outputs": [
    {
     "data": {
      "image/png": "[encoded data removed]",
      "text/plain": [
       "<Figure size 432x288 with 1 Axes>"
      ]
     },
     "metadata": {
      "needs_background": "light"
     },
     "output_type": "display_data"
    }
   ],
   "source": [
    "plt.plot(history_d.history['loss'], label='Training loss')\n",
    "plt.plot(history_d.history['val_loss'], label='Testing loss')\n",
    "plt.legend();"
   ]
  },
  {
   "cell_type": "code",
   "execution_count": 28,
   "metadata": {},
   "outputs": [
    {
     "data": {
      "text/plain": [
       "(0.5090311986863711, 0.497230768937331)"
      ]
     },
     "execution_count": 28,
     "metadata": {},
     "output_type": "execute_result"
    }
   ],
   "source": [
    "history_d.history['acc'][-1], history_d.history['val_acc'][-1]"
   ]
  },
  {
   "cell_type": "markdown",
   "metadata": {},
   "source": [
    "### Early Stopping"
   ]
  },
  {
   "cell_type": "markdown",
   "metadata": {},
   "source": [
    "Another idea is to try to terminate the training process early, even before some pre-specified number of epochs.\n",
    "\n",
    "$\\rightarrow$ Why is this a good idea? *Is* it a good idea?\n",
    "\n",
    "Was this sort of regularization available to us before? Why (not)?"
   ]
  },
  {
   "cell_type": "code",
   "execution_count": 29,
   "metadata": {},
   "outputs": [],
   "source": [
    "from keras.callbacks import EarlyStopping"
   ]
  },
  {
   "cell_type": "code",
   "execution_count": 30,
   "metadata": {},
   "outputs": [
    {
     "name": "stdout",
     "output_type": "stream",
     "text": [
      "Train on 4872 samples, validate on 1625 samples\n",
      "Epoch 1/20\n",
      "4872/4872 [==============================] - 0s 100us/step - loss: 2.0674 - acc: 0.2490 - val_loss: 1.7831 - val_acc: 0.3385\n",
      "Epoch 2/20\n",
      "4872/4872 [==============================] - 0s 26us/step - loss: 1.5897 - acc: 0.3779 - val_loss: 1.4484 - val_acc: 0.4302\n",
      "Epoch 3/20\n",
      "4872/4872 [==============================] - 0s 26us/step - loss: 1.3537 - acc: 0.4639 - val_loss: 1.3007 - val_acc: 0.4751\n",
      "Epoch 4/20\n",
      "4872/4872 [==============================] - 0s 32us/step - loss: 1.2494 - acc: 0.4770 - val_loss: 1.2425 - val_acc: 0.4905\n",
      "Epoch 5/20\n",
      "4872/4872 [==============================] - 0s 28us/step - loss: 1.2033 - acc: 0.4893 - val_loss: 1.2134 - val_acc: 0.4868\n",
      "Epoch 6/20\n",
      "4872/4872 [==============================] - 0s 26us/step - loss: 1.1767 - acc: 0.4975 - val_loss: 1.1961 - val_acc: 0.4954\n",
      "Epoch 7/20\n",
      "4872/4872 [==============================] - 0s 25us/step - loss: 1.1597 - acc: 0.5014 - val_loss: 1.1841 - val_acc: 0.4997\n",
      "Epoch 8/20\n",
      "4872/4872 [==============================] - 0s 24us/step - loss: 1.1478 - acc: 0.5074 - val_loss: 1.1754 - val_acc: 0.5003\n",
      "Epoch 9/20\n",
      "4872/4872 [==============================] - 0s 27us/step - loss: 1.1392 - acc: 0.5094 - val_loss: 1.1693 - val_acc: 0.5040\n",
      "Epoch 10/20\n",
      "4872/4872 [==============================] - 0s 26us/step - loss: 1.1316 - acc: 0.5117 - val_loss: 1.1644 - val_acc: 0.5046\n",
      "Epoch 11/20\n",
      "4872/4872 [==============================] - 0s 27us/step - loss: 1.1257 - acc: 0.5129 - val_loss: 1.1614 - val_acc: 0.4948\n",
      "Epoch 12/20\n",
      "4872/4872 [==============================] - 0s 24us/step - loss: 1.1211 - acc: 0.5111 - val_loss: 1.1589 - val_acc: 0.5022\n",
      "Epoch 13/20\n",
      "4872/4872 [==============================] - 0s 24us/step - loss: 1.1170 - acc: 0.5133 - val_loss: 1.1576 - val_acc: 0.4935\n",
      "Epoch 14/20\n",
      "4872/4872 [==============================] - 0s 24us/step - loss: 1.1137 - acc: 0.5140 - val_loss: 1.1550 - val_acc: 0.5015\n",
      "Epoch 15/20\n",
      "4872/4872 [==============================] - 0s 24us/step - loss: 1.1102 - acc: 0.5154 - val_loss: 1.1544 - val_acc: 0.5022\n",
      "Epoch 16/20\n",
      "4872/4872 [==============================] - 0s 25us/step - loss: 1.1073 - acc: 0.5125 - val_loss: 1.1523 - val_acc: 0.5065\n",
      "Epoch 17/20\n",
      "4872/4872 [==============================] - 0s 29us/step - loss: 1.1048 - acc: 0.5181 - val_loss: 1.1503 - val_acc: 0.4997\n",
      "Epoch 18/20\n",
      "4872/4872 [==============================] - 0s 30us/step - loss: 1.1022 - acc: 0.5133 - val_loss: 1.1493 - val_acc: 0.5028\n",
      "Epoch 19/20\n",
      "4872/4872 [==============================] - 0s 38us/step - loss: 1.1000 - acc: 0.5156 - val_loss: 1.1496 - val_acc: 0.5015\n",
      "Epoch 00019: early stopping\n"
     ]
    }
   ],
   "source": [
    "from keras.callbacks import EarlyStopping\n",
    "\n",
    "model_es = Sequential()\n",
    "\n",
    "n_input = X_train_s.shape[1]\n",
    "n_hidden = n_input\n",
    "\n",
    "model_es.add(Dense(n_hidden, input_dim=n_input, activation='relu'))\n",
    "model_es.add(Dense(10, activation='softmax'))\n",
    "\n",
    "model_es.compile(loss='categorical_crossentropy', optimizer='adam', metrics=['acc'])\n",
    "\n",
    "early_stop = EarlyStopping(monitor='val_loss', min_delta=1e-08, patience=0, verbose=1,\n",
    "                           mode='auto')\n",
    "\n",
    "callbacks_list = [early_stop]\n",
    "\n",
    "history_es = model_es.fit(X_train_s, y_train_c, validation_data=(X_test_s, y_test_c),\n",
    "                         epochs=20, batch_size=None, callbacks=callbacks_list)"
   ]
  },
  {
   "cell_type": "code",
   "execution_count": 31,
   "metadata": {},
   "outputs": [
    {
     "data": {
      "image/png": "[encoded data removed]",
      "text/plain": [
       "<Figure size 432x288 with 1 Axes>"
      ]
     },
     "metadata": {
      "needs_background": "light"
     },
     "output_type": "display_data"
    }
   ],
   "source": [
    "plt.plot(history_es.history['loss'], label='Training loss')\n",
    "plt.plot(history_es.history['val_loss'], label='Testing loss')\n",
    "plt.legend();"
   ]
  },
  {
   "cell_type": "code",
   "execution_count": null,
   "metadata": {},
   "outputs": [],
   "source": []
  }
 ],
 "metadata": {
  "kernelspec": {
   "display_name": "Python 3",
   "language": "python",
   "name": "python3"
  },
  "language_info": {
   "codemirror_mode": {
    "name": "ipython",
    "version": 3
   },
   "file_extension": ".py",
   "mimetype": "text/x-python",
   "name": "python",
   "nbconvert_exporter": "python",
   "pygments_lexer": "ipython3",
   "version": "3.7.2"
  }
 },
 "nbformat": 4,
 "nbformat_minor": 2
}
